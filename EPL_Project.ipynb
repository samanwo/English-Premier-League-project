{
  "nbformat": 4,
  "nbformat_minor": 0,
  "metadata": {
    "colab": {
      "name": "EPL Project",
      "provenance": []
    },
    "kernelspec": {
      "name": "python3",
      "display_name": "Python 3"
    }
  },
  "cells": [
    {
      "cell_type": "markdown",
      "metadata": {
        "id": "wXhiwyV4uNuD"
      },
      "source": [
        "The data set which was obtained from Kaggle contains the English Premier League(EPL) first division match statistics between years 2000 - 2018. I selected this data set in order to predict the outcome of EPL matches between Liverpool FC (LFC) and other english teams at half time, full time and to determine if its either a high, medium or low scoring game. I selected this data set because it contains diverese EPL match statistics over a relatively long period of time.\r\n",
        "\r\n",
        "Source: https://www.kaggle.com/devinharia/epl-dataset\r\n"
      ]
    },
    {
      "cell_type": "markdown",
      "metadata": {
        "id": "Q-o1Bar0uUNk"
      },
      "source": [
        "The data set is downloaded as a csv file from Kaggle and unzipped to a specific location on my local drive. The code below sends a prompt to select the file that contains the EPL data set in order for it to be uploaded unto google collaboratory. Also relevant libraries like the Matplotlib, numpy, pandas and seaborn lwere imported"
      ]
    },
    {
      "cell_type": "code",
      "metadata": {
        "id": "5e-oelDitqSN"
      },
      "source": [
        "import matplotlib.pyplot as plt\r\n",
        "import seaborn as sns\r\n",
        "import pandas as pd\r\n",
        "import numpy as np\r\n",
        "#imports KNN classifier\r\n",
        "from sklearn.neighbors import KNeighborsClassifier\r\n",
        "#imports logistic regression\r\n",
        "from sklearn.linear_model import LogisticRegression\r\n",
        "from sklearn.metrics import classification_report\r\n"
      ],
      "execution_count": null,
      "outputs": []
    },
    {
      "cell_type": "code",
      "metadata": {
        "colab": {
          "base_uri": "https://localhost:8080/"
        },
        "id": "RuB4CX1rtqPX",
        "outputId": "59a67038-84c7-4ebf-8beb-5c896598b9d9"
      },
      "source": [
        "from google.colab import drive \r\n",
        "drive.mount('/content/drive')"
      ],
      "execution_count": null,
      "outputs": [
        {
          "output_type": "stream",
          "text": [
            "Drive already mounted at /content/drive; to attempt to forcibly remount, call drive.mount(\"/content/drive\", force_remount=True).\n"
          ],
          "name": "stdout"
        }
      ]
    },
    {
      "cell_type": "code",
      "metadata": {
        "id": "6JcNyCfCwyK8"
      },
      "source": [
        "#path to dataset\r\n",
        "epl = pd.read_csv('/content/drive/MyDrive/Colab Notebooks/EPL 2000-2018.csv')"
      ],
      "execution_count": null,
      "outputs": []
    },
    {
      "cell_type": "markdown",
      "metadata": {
        "id": "4R-3EXDKucIW"
      },
      "source": [
        "The command below imports the premier league match data set into a data frame that consist of 6461 rows and 23 columns. In the data frame the abbreviated words represent the following coulmns; FTAG: full time away goals, FTHG: full time home goals, FTR: full time results, HTR: half time results, HTAG: half time away goals\r\n",
        "HTHG: half time home goals, HC: home team corners, AC: away team corners, HST: home team shots on target, AST: away team shots on target, HS: home team shots, AS: away team shots, HY: home team yellow cards, AY: away team yellow cards, HR: home team red cards, AR: away team red cards."
      ]
    },
    {
      "cell_type": "code",
      "metadata": {
        "colab": {
          "base_uri": "https://localhost:8080/",
          "height": 206
        },
        "id": "Hfo8RmXntqHP",
        "outputId": "b41990ba-e8c9-43c4-8f20-3be97e0df0fd"
      },
      "source": [
        "\r\n",
        "#create new column for total number of goals (TNOG) by joining FTHG and FTAG columns\r\n",
        "epl['TNOG'] = epl['FTHG'] + epl['FTAG']\r\n",
        "#create coumn that classifies TNOG into categories\r\n",
        "epl['SF'] = pd.cut(epl['TNOG'], bins=[0, 2, 5, 15], include_lowest=True, labels=['low', 'mid', 'high'])\r\n",
        "\r\n",
        "#print the first five(5) output of the data set\r\n",
        "epl.head(5)"
      ],
      "execution_count": null,
      "outputs": [
        {
          "output_type": "execute_result",
          "data": {
            "text/html": [
              "<div>\n",
              "<style scoped>\n",
              "    .dataframe tbody tr th:only-of-type {\n",
              "        vertical-align: middle;\n",
              "    }\n",
              "\n",
              "    .dataframe tbody tr th {\n",
              "        vertical-align: top;\n",
              "    }\n",
              "\n",
              "    .dataframe thead th {\n",
              "        text-align: right;\n",
              "    }\n",
              "</style>\n",
              "<table border=\"1\" class=\"dataframe\">\n",
              "  <thead>\n",
              "    <tr style=\"text-align: right;\">\n",
              "      <th></th>\n",
              "      <th>Date</th>\n",
              "      <th>HomeTeam</th>\n",
              "      <th>AwayTeam</th>\n",
              "      <th>FTHG</th>\n",
              "      <th>FTAG</th>\n",
              "      <th>FTR</th>\n",
              "      <th>HTHG</th>\n",
              "      <th>HTAG</th>\n",
              "      <th>HTR</th>\n",
              "      <th>Referee</th>\n",
              "      <th>HS</th>\n",
              "      <th>AS</th>\n",
              "      <th>HST</th>\n",
              "      <th>AST</th>\n",
              "      <th>HF</th>\n",
              "      <th>AF</th>\n",
              "      <th>HC</th>\n",
              "      <th>AC</th>\n",
              "      <th>HY</th>\n",
              "      <th>AY</th>\n",
              "      <th>HR</th>\n",
              "      <th>AR</th>\n",
              "      <th>Season</th>\n",
              "      <th>TNOG</th>\n",
              "      <th>SF</th>\n",
              "    </tr>\n",
              "  </thead>\n",
              "  <tbody>\n",
              "    <tr>\n",
              "      <th>0</th>\n",
              "      <td>19/08/00</td>\n",
              "      <td>Charlton</td>\n",
              "      <td>Man City</td>\n",
              "      <td>4.0</td>\n",
              "      <td>0.0</td>\n",
              "      <td>H</td>\n",
              "      <td>2.0</td>\n",
              "      <td>0.0</td>\n",
              "      <td>H</td>\n",
              "      <td>Rob Harris</td>\n",
              "      <td>17.0</td>\n",
              "      <td>8.0</td>\n",
              "      <td>14.0</td>\n",
              "      <td>4.0</td>\n",
              "      <td>13.0</td>\n",
              "      <td>12.0</td>\n",
              "      <td>6.0</td>\n",
              "      <td>6.0</td>\n",
              "      <td>1.0</td>\n",
              "      <td>2.0</td>\n",
              "      <td>0.0</td>\n",
              "      <td>0.0</td>\n",
              "      <td>00-01</td>\n",
              "      <td>4.0</td>\n",
              "      <td>mid</td>\n",
              "    </tr>\n",
              "    <tr>\n",
              "      <th>1</th>\n",
              "      <td>19/08/00</td>\n",
              "      <td>Chelsea</td>\n",
              "      <td>West Ham</td>\n",
              "      <td>4.0</td>\n",
              "      <td>2.0</td>\n",
              "      <td>H</td>\n",
              "      <td>1.0</td>\n",
              "      <td>0.0</td>\n",
              "      <td>H</td>\n",
              "      <td>Graham Barber</td>\n",
              "      <td>17.0</td>\n",
              "      <td>12.0</td>\n",
              "      <td>10.0</td>\n",
              "      <td>5.0</td>\n",
              "      <td>19.0</td>\n",
              "      <td>14.0</td>\n",
              "      <td>7.0</td>\n",
              "      <td>7.0</td>\n",
              "      <td>1.0</td>\n",
              "      <td>2.0</td>\n",
              "      <td>0.0</td>\n",
              "      <td>0.0</td>\n",
              "      <td>00-01</td>\n",
              "      <td>6.0</td>\n",
              "      <td>high</td>\n",
              "    </tr>\n",
              "    <tr>\n",
              "      <th>2</th>\n",
              "      <td>19/08/00</td>\n",
              "      <td>Coventry</td>\n",
              "      <td>Middlesbrough</td>\n",
              "      <td>1.0</td>\n",
              "      <td>3.0</td>\n",
              "      <td>A</td>\n",
              "      <td>1.0</td>\n",
              "      <td>1.0</td>\n",
              "      <td>D</td>\n",
              "      <td>Barry Knight</td>\n",
              "      <td>6.0</td>\n",
              "      <td>16.0</td>\n",
              "      <td>3.0</td>\n",
              "      <td>9.0</td>\n",
              "      <td>15.0</td>\n",
              "      <td>21.0</td>\n",
              "      <td>8.0</td>\n",
              "      <td>4.0</td>\n",
              "      <td>5.0</td>\n",
              "      <td>3.0</td>\n",
              "      <td>1.0</td>\n",
              "      <td>0.0</td>\n",
              "      <td>00-01</td>\n",
              "      <td>4.0</td>\n",
              "      <td>mid</td>\n",
              "    </tr>\n",
              "    <tr>\n",
              "      <th>3</th>\n",
              "      <td>19/08/00</td>\n",
              "      <td>Derby</td>\n",
              "      <td>Southampton</td>\n",
              "      <td>2.0</td>\n",
              "      <td>2.0</td>\n",
              "      <td>D</td>\n",
              "      <td>1.0</td>\n",
              "      <td>2.0</td>\n",
              "      <td>A</td>\n",
              "      <td>Andy D'Urso</td>\n",
              "      <td>6.0</td>\n",
              "      <td>13.0</td>\n",
              "      <td>4.0</td>\n",
              "      <td>6.0</td>\n",
              "      <td>11.0</td>\n",
              "      <td>13.0</td>\n",
              "      <td>5.0</td>\n",
              "      <td>8.0</td>\n",
              "      <td>1.0</td>\n",
              "      <td>1.0</td>\n",
              "      <td>0.0</td>\n",
              "      <td>0.0</td>\n",
              "      <td>00-01</td>\n",
              "      <td>4.0</td>\n",
              "      <td>mid</td>\n",
              "    </tr>\n",
              "    <tr>\n",
              "      <th>4</th>\n",
              "      <td>19/08/00</td>\n",
              "      <td>Leeds</td>\n",
              "      <td>Everton</td>\n",
              "      <td>2.0</td>\n",
              "      <td>0.0</td>\n",
              "      <td>H</td>\n",
              "      <td>2.0</td>\n",
              "      <td>0.0</td>\n",
              "      <td>H</td>\n",
              "      <td>Dermot Gallagher</td>\n",
              "      <td>17.0</td>\n",
              "      <td>12.0</td>\n",
              "      <td>8.0</td>\n",
              "      <td>6.0</td>\n",
              "      <td>21.0</td>\n",
              "      <td>20.0</td>\n",
              "      <td>6.0</td>\n",
              "      <td>4.0</td>\n",
              "      <td>1.0</td>\n",
              "      <td>3.0</td>\n",
              "      <td>0.0</td>\n",
              "      <td>0.0</td>\n",
              "      <td>00-01</td>\n",
              "      <td>2.0</td>\n",
              "      <td>low</td>\n",
              "    </tr>\n",
              "  </tbody>\n",
              "</table>\n",
              "</div>"
            ],
            "text/plain": [
              "       Date  HomeTeam       AwayTeam  FTHG  FTAG  ...   HR   AR  Season TNOG    SF\n",
              "0  19/08/00  Charlton       Man City   4.0   0.0  ...  0.0  0.0   00-01  4.0   mid\n",
              "1  19/08/00   Chelsea       West Ham   4.0   2.0  ...  0.0  0.0   00-01  6.0  high\n",
              "2  19/08/00  Coventry  Middlesbrough   1.0   3.0  ...  1.0  0.0   00-01  4.0   mid\n",
              "3  19/08/00     Derby    Southampton   2.0   2.0  ...  0.0  0.0   00-01  4.0   mid\n",
              "4  19/08/00     Leeds        Everton   2.0   0.0  ...  0.0  0.0   00-01  2.0   low\n",
              "\n",
              "[5 rows x 25 columns]"
            ]
          },
          "metadata": {
            "tags": []
          },
          "execution_count": 107
        }
      ]
    },
    {
      "cell_type": "markdown",
      "metadata": {
        "id": "1Agks2lkukla"
      },
      "source": [
        "The data frame is further streamlined to focus on home and away matches played between Liverpool footbal club (LFC) and other english teams between 2000 - 2018. The new data frame is then examined to ensure it doesn't contain any null values"
      ]
    },
    {
      "cell_type": "code",
      "metadata": {
        "colab": {
          "base_uri": "https://localhost:8080/"
        },
        "id": "RF1yHj5ItqEX",
        "outputId": "640c3ef7-b7d5-4005-d0d8-ca6bf6494a6d"
      },
      "source": [
        "#create data set of Liverpool FC games \r\n",
        "liverpool = np.where((epl['HomeTeam']=='Liverpool') | (epl['AwayTeam']=='Liverpool') )\r\n",
        "liv = epl.loc[liverpool]\r\n",
        "#search for null values in each columns in the liverpool fc data set\r\n",
        "liv.isnull().sum()"
      ],
      "execution_count": null,
      "outputs": [
        {
          "output_type": "execute_result",
          "data": {
            "text/plain": [
              "Date        0\n",
              "HomeTeam    0\n",
              "AwayTeam    0\n",
              "FTHG        0\n",
              "FTAG        0\n",
              "FTR         0\n",
              "HTHG        0\n",
              "HTAG        0\n",
              "HTR         0\n",
              "Referee     0\n",
              "HS          0\n",
              "AS          0\n",
              "HST         0\n",
              "AST         0\n",
              "HF          0\n",
              "AF          0\n",
              "HC          0\n",
              "AC          0\n",
              "HY          0\n",
              "AY          0\n",
              "HR          0\n",
              "AR          0\n",
              "Season      0\n",
              "TNOG        0\n",
              "SF          0\n",
              "dtype: int64"
            ]
          },
          "metadata": {
            "tags": []
          },
          "execution_count": 108
        }
      ]
    },
    {
      "cell_type": "code",
      "metadata": {
        "colab": {
          "base_uri": "https://localhost:8080/",
          "height": 424
        },
        "id": "Fxz0NQx4tqBV",
        "outputId": "ca0cf752-4fc0-4e43-9fbf-0a3253e3a56b"
      },
      "source": [
        "#The dataset of liverpool fc EPL matches between 2000-2018\r\n",
        "liv"
      ],
      "execution_count": null,
      "outputs": [
        {
          "output_type": "execute_result",
          "data": {
            "text/html": [
              "<div>\n",
              "<style scoped>\n",
              "    .dataframe tbody tr th:only-of-type {\n",
              "        vertical-align: middle;\n",
              "    }\n",
              "\n",
              "    .dataframe tbody tr th {\n",
              "        vertical-align: top;\n",
              "    }\n",
              "\n",
              "    .dataframe thead th {\n",
              "        text-align: right;\n",
              "    }\n",
              "</style>\n",
              "<table border=\"1\" class=\"dataframe\">\n",
              "  <thead>\n",
              "    <tr style=\"text-align: right;\">\n",
              "      <th></th>\n",
              "      <th>Date</th>\n",
              "      <th>HomeTeam</th>\n",
              "      <th>AwayTeam</th>\n",
              "      <th>FTHG</th>\n",
              "      <th>FTAG</th>\n",
              "      <th>FTR</th>\n",
              "      <th>HTHG</th>\n",
              "      <th>HTAG</th>\n",
              "      <th>HTR</th>\n",
              "      <th>Referee</th>\n",
              "      <th>HS</th>\n",
              "      <th>AS</th>\n",
              "      <th>HST</th>\n",
              "      <th>AST</th>\n",
              "      <th>HF</th>\n",
              "      <th>AF</th>\n",
              "      <th>HC</th>\n",
              "      <th>AC</th>\n",
              "      <th>HY</th>\n",
              "      <th>AY</th>\n",
              "      <th>HR</th>\n",
              "      <th>AR</th>\n",
              "      <th>Season</th>\n",
              "      <th>TNOG</th>\n",
              "      <th>SF</th>\n",
              "    </tr>\n",
              "  </thead>\n",
              "  <tbody>\n",
              "    <tr>\n",
              "      <th>6</th>\n",
              "      <td>19/08/00</td>\n",
              "      <td>Liverpool</td>\n",
              "      <td>Bradford</td>\n",
              "      <td>1.0</td>\n",
              "      <td>0.0</td>\n",
              "      <td>H</td>\n",
              "      <td>0.0</td>\n",
              "      <td>0.0</td>\n",
              "      <td>D</td>\n",
              "      <td>Paul Durkin</td>\n",
              "      <td>16.0</td>\n",
              "      <td>3.0</td>\n",
              "      <td>10.0</td>\n",
              "      <td>2.0</td>\n",
              "      <td>8.0</td>\n",
              "      <td>8.0</td>\n",
              "      <td>6.0</td>\n",
              "      <td>1.0</td>\n",
              "      <td>1.0</td>\n",
              "      <td>1.0</td>\n",
              "      <td>0.0</td>\n",
              "      <td>0.0</td>\n",
              "      <td>00-01</td>\n",
              "      <td>1.0</td>\n",
              "      <td>low</td>\n",
              "    </tr>\n",
              "    <tr>\n",
              "      <th>10</th>\n",
              "      <td>21/08/00</td>\n",
              "      <td>Arsenal</td>\n",
              "      <td>Liverpool</td>\n",
              "      <td>2.0</td>\n",
              "      <td>0.0</td>\n",
              "      <td>H</td>\n",
              "      <td>1.0</td>\n",
              "      <td>0.0</td>\n",
              "      <td>H</td>\n",
              "      <td>Graham Poll</td>\n",
              "      <td>17.0</td>\n",
              "      <td>7.0</td>\n",
              "      <td>12.0</td>\n",
              "      <td>4.0</td>\n",
              "      <td>25.0</td>\n",
              "      <td>20.0</td>\n",
              "      <td>10.0</td>\n",
              "      <td>11.0</td>\n",
              "      <td>2.0</td>\n",
              "      <td>4.0</td>\n",
              "      <td>1.0</td>\n",
              "      <td>2.0</td>\n",
              "      <td>00-01</td>\n",
              "      <td>2.0</td>\n",
              "      <td>low</td>\n",
              "    </tr>\n",
              "    <tr>\n",
              "      <th>26</th>\n",
              "      <td>26/08/00</td>\n",
              "      <td>Southampton</td>\n",
              "      <td>Liverpool</td>\n",
              "      <td>3.0</td>\n",
              "      <td>3.0</td>\n",
              "      <td>D</td>\n",
              "      <td>0.0</td>\n",
              "      <td>1.0</td>\n",
              "      <td>A</td>\n",
              "      <td>Jeff Winter</td>\n",
              "      <td>14.0</td>\n",
              "      <td>9.0</td>\n",
              "      <td>7.0</td>\n",
              "      <td>4.0</td>\n",
              "      <td>7.0</td>\n",
              "      <td>6.0</td>\n",
              "      <td>7.0</td>\n",
              "      <td>1.0</td>\n",
              "      <td>0.0</td>\n",
              "      <td>0.0</td>\n",
              "      <td>0.0</td>\n",
              "      <td>0.0</td>\n",
              "      <td>00-01</td>\n",
              "      <td>6.0</td>\n",
              "      <td>high</td>\n",
              "    </tr>\n",
              "    <tr>\n",
              "      <th>38</th>\n",
              "      <td>06/09/00</td>\n",
              "      <td>Liverpool</td>\n",
              "      <td>Aston Villa</td>\n",
              "      <td>3.0</td>\n",
              "      <td>1.0</td>\n",
              "      <td>H</td>\n",
              "      <td>3.0</td>\n",
              "      <td>0.0</td>\n",
              "      <td>H</td>\n",
              "      <td>Neale Barry</td>\n",
              "      <td>11.0</td>\n",
              "      <td>9.0</td>\n",
              "      <td>7.0</td>\n",
              "      <td>4.0</td>\n",
              "      <td>13.0</td>\n",
              "      <td>7.0</td>\n",
              "      <td>8.0</td>\n",
              "      <td>7.0</td>\n",
              "      <td>0.0</td>\n",
              "      <td>2.0</td>\n",
              "      <td>0.0</td>\n",
              "      <td>0.0</td>\n",
              "      <td>00-01</td>\n",
              "      <td>4.0</td>\n",
              "      <td>mid</td>\n",
              "    </tr>\n",
              "    <tr>\n",
              "      <th>43</th>\n",
              "      <td>09/09/00</td>\n",
              "      <td>Liverpool</td>\n",
              "      <td>Man City</td>\n",
              "      <td>3.0</td>\n",
              "      <td>2.0</td>\n",
              "      <td>H</td>\n",
              "      <td>1.0</td>\n",
              "      <td>0.0</td>\n",
              "      <td>H</td>\n",
              "      <td>Graham Barber</td>\n",
              "      <td>14.0</td>\n",
              "      <td>9.0</td>\n",
              "      <td>8.0</td>\n",
              "      <td>7.0</td>\n",
              "      <td>17.0</td>\n",
              "      <td>17.0</td>\n",
              "      <td>9.0</td>\n",
              "      <td>4.0</td>\n",
              "      <td>3.0</td>\n",
              "      <td>4.0</td>\n",
              "      <td>0.0</td>\n",
              "      <td>0.0</td>\n",
              "      <td>00-01</td>\n",
              "      <td>5.0</td>\n",
              "      <td>mid</td>\n",
              "    </tr>\n",
              "    <tr>\n",
              "      <th>...</th>\n",
              "      <td>...</td>\n",
              "      <td>...</td>\n",
              "      <td>...</td>\n",
              "      <td>...</td>\n",
              "      <td>...</td>\n",
              "      <td>...</td>\n",
              "      <td>...</td>\n",
              "      <td>...</td>\n",
              "      <td>...</td>\n",
              "      <td>...</td>\n",
              "      <td>...</td>\n",
              "      <td>...</td>\n",
              "      <td>...</td>\n",
              "      <td>...</td>\n",
              "      <td>...</td>\n",
              "      <td>...</td>\n",
              "      <td>...</td>\n",
              "      <td>...</td>\n",
              "      <td>...</td>\n",
              "      <td>...</td>\n",
              "      <td>...</td>\n",
              "      <td>...</td>\n",
              "      <td>...</td>\n",
              "      <td>...</td>\n",
              "      <td>...</td>\n",
              "    </tr>\n",
              "    <tr>\n",
              "      <th>6408</th>\n",
              "      <td>14/04/18</td>\n",
              "      <td>Liverpool</td>\n",
              "      <td>Bournemouth</td>\n",
              "      <td>3.0</td>\n",
              "      <td>0.0</td>\n",
              "      <td>H</td>\n",
              "      <td>1.0</td>\n",
              "      <td>0.0</td>\n",
              "      <td>H</td>\n",
              "      <td>C Kavanagh</td>\n",
              "      <td>20.0</td>\n",
              "      <td>6.0</td>\n",
              "      <td>7.0</td>\n",
              "      <td>1.0</td>\n",
              "      <td>9.0</td>\n",
              "      <td>9.0</td>\n",
              "      <td>7.0</td>\n",
              "      <td>5.0</td>\n",
              "      <td>1.0</td>\n",
              "      <td>1.0</td>\n",
              "      <td>0.0</td>\n",
              "      <td>0.0</td>\n",
              "      <td>17-18</td>\n",
              "      <td>3.0</td>\n",
              "      <td>mid</td>\n",
              "    </tr>\n",
              "    <tr>\n",
              "      <th>6420</th>\n",
              "      <td>21/04/18</td>\n",
              "      <td>West Brom</td>\n",
              "      <td>Liverpool</td>\n",
              "      <td>2.0</td>\n",
              "      <td>2.0</td>\n",
              "      <td>D</td>\n",
              "      <td>0.0</td>\n",
              "      <td>1.0</td>\n",
              "      <td>A</td>\n",
              "      <td>S Attwell</td>\n",
              "      <td>13.0</td>\n",
              "      <td>9.0</td>\n",
              "      <td>6.0</td>\n",
              "      <td>3.0</td>\n",
              "      <td>12.0</td>\n",
              "      <td>5.0</td>\n",
              "      <td>7.0</td>\n",
              "      <td>4.0</td>\n",
              "      <td>0.0</td>\n",
              "      <td>1.0</td>\n",
              "      <td>0.0</td>\n",
              "      <td>0.0</td>\n",
              "      <td>17-18</td>\n",
              "      <td>4.0</td>\n",
              "      <td>mid</td>\n",
              "    </tr>\n",
              "    <tr>\n",
              "      <th>6428</th>\n",
              "      <td>28/04/18</td>\n",
              "      <td>Liverpool</td>\n",
              "      <td>Stoke</td>\n",
              "      <td>0.0</td>\n",
              "      <td>0.0</td>\n",
              "      <td>D</td>\n",
              "      <td>0.0</td>\n",
              "      <td>0.0</td>\n",
              "      <td>D</td>\n",
              "      <td>A Marriner</td>\n",
              "      <td>20.0</td>\n",
              "      <td>5.0</td>\n",
              "      <td>2.0</td>\n",
              "      <td>1.0</td>\n",
              "      <td>7.0</td>\n",
              "      <td>14.0</td>\n",
              "      <td>9.0</td>\n",
              "      <td>2.0</td>\n",
              "      <td>1.0</td>\n",
              "      <td>2.0</td>\n",
              "      <td>0.0</td>\n",
              "      <td>0.0</td>\n",
              "      <td>17-18</td>\n",
              "      <td>0.0</td>\n",
              "      <td>low</td>\n",
              "    </tr>\n",
              "    <tr>\n",
              "      <th>6443</th>\n",
              "      <td>06/05/18</td>\n",
              "      <td>Chelsea</td>\n",
              "      <td>Liverpool</td>\n",
              "      <td>1.0</td>\n",
              "      <td>0.0</td>\n",
              "      <td>H</td>\n",
              "      <td>1.0</td>\n",
              "      <td>0.0</td>\n",
              "      <td>H</td>\n",
              "      <td>A Taylor</td>\n",
              "      <td>12.0</td>\n",
              "      <td>10.0</td>\n",
              "      <td>4.0</td>\n",
              "      <td>5.0</td>\n",
              "      <td>12.0</td>\n",
              "      <td>9.0</td>\n",
              "      <td>3.0</td>\n",
              "      <td>1.0</td>\n",
              "      <td>3.0</td>\n",
              "      <td>2.0</td>\n",
              "      <td>0.0</td>\n",
              "      <td>0.0</td>\n",
              "      <td>17-18</td>\n",
              "      <td>1.0</td>\n",
              "      <td>low</td>\n",
              "    </tr>\n",
              "    <tr>\n",
              "      <th>6454</th>\n",
              "      <td>13/05/18</td>\n",
              "      <td>Liverpool</td>\n",
              "      <td>Brighton</td>\n",
              "      <td>4.0</td>\n",
              "      <td>0.0</td>\n",
              "      <td>H</td>\n",
              "      <td>2.0</td>\n",
              "      <td>0.0</td>\n",
              "      <td>H</td>\n",
              "      <td>K Friend</td>\n",
              "      <td>22.0</td>\n",
              "      <td>2.0</td>\n",
              "      <td>11.0</td>\n",
              "      <td>1.0</td>\n",
              "      <td>3.0</td>\n",
              "      <td>6.0</td>\n",
              "      <td>7.0</td>\n",
              "      <td>3.0</td>\n",
              "      <td>0.0</td>\n",
              "      <td>0.0</td>\n",
              "      <td>0.0</td>\n",
              "      <td>0.0</td>\n",
              "      <td>17-18</td>\n",
              "      <td>4.0</td>\n",
              "      <td>mid</td>\n",
              "    </tr>\n",
              "  </tbody>\n",
              "</table>\n",
              "<p>646 rows × 25 columns</p>\n",
              "</div>"
            ],
            "text/plain": [
              "          Date     HomeTeam     AwayTeam  FTHG  ...   AR Season  TNOG    SF\n",
              "6     19/08/00    Liverpool     Bradford   1.0  ...  0.0  00-01   1.0   low\n",
              "10    21/08/00      Arsenal    Liverpool   2.0  ...  2.0  00-01   2.0   low\n",
              "26    26/08/00  Southampton    Liverpool   3.0  ...  0.0  00-01   6.0  high\n",
              "38    06/09/00    Liverpool  Aston Villa   3.0  ...  0.0  00-01   4.0   mid\n",
              "43    09/09/00    Liverpool     Man City   3.0  ...  0.0  00-01   5.0   mid\n",
              "...        ...          ...          ...   ...  ...  ...    ...   ...   ...\n",
              "6408  14/04/18    Liverpool  Bournemouth   3.0  ...  0.0  17-18   3.0   mid\n",
              "6420  21/04/18    West Brom    Liverpool   2.0  ...  0.0  17-18   4.0   mid\n",
              "6428  28/04/18    Liverpool        Stoke   0.0  ...  0.0  17-18   0.0   low\n",
              "6443  06/05/18      Chelsea    Liverpool   1.0  ...  0.0  17-18   1.0   low\n",
              "6454  13/05/18    Liverpool     Brighton   4.0  ...  0.0  17-18   4.0   mid\n",
              "\n",
              "[646 rows x 25 columns]"
            ]
          },
          "metadata": {
            "tags": []
          },
          "execution_count": 109
        }
      ]
    },
    {
      "cell_type": "code",
      "metadata": {
        "colab": {
          "base_uri": "https://localhost:8080/"
        },
        "id": "Ak-FzIKmtp-n",
        "outputId": "8477bac8-a85f-45b5-c857-18d8fe0aad71"
      },
      "source": [
        "liv.info()"
      ],
      "execution_count": null,
      "outputs": [
        {
          "output_type": "stream",
          "text": [
            "<class 'pandas.core.frame.DataFrame'>\n",
            "Int64Index: 646 entries, 6 to 6454\n",
            "Data columns (total 25 columns):\n",
            " #   Column    Non-Null Count  Dtype   \n",
            "---  ------    --------------  -----   \n",
            " 0   Date      646 non-null    object  \n",
            " 1   HomeTeam  646 non-null    object  \n",
            " 2   AwayTeam  646 non-null    object  \n",
            " 3   FTHG      646 non-null    float64 \n",
            " 4   FTAG      646 non-null    float64 \n",
            " 5   FTR       646 non-null    object  \n",
            " 6   HTHG      646 non-null    float64 \n",
            " 7   HTAG      646 non-null    float64 \n",
            " 8   HTR       646 non-null    object  \n",
            " 9   Referee   646 non-null    object  \n",
            " 10  HS        646 non-null    float64 \n",
            " 11  AS        646 non-null    float64 \n",
            " 12  HST       646 non-null    float64 \n",
            " 13  AST       646 non-null    float64 \n",
            " 14  HF        646 non-null    float64 \n",
            " 15  AF        646 non-null    float64 \n",
            " 16  HC        646 non-null    float64 \n",
            " 17  AC        646 non-null    float64 \n",
            " 18  HY        646 non-null    float64 \n",
            " 19  AY        646 non-null    float64 \n",
            " 20  HR        646 non-null    float64 \n",
            " 21  AR        646 non-null    float64 \n",
            " 22  Season    646 non-null    object  \n",
            " 23  TNOG      646 non-null    float64 \n",
            " 24  SF        646 non-null    category\n",
            "dtypes: category(1), float64(17), object(7)\n",
            "memory usage: 126.9+ KB\n"
          ],
          "name": "stdout"
        }
      ]
    },
    {
      "cell_type": "markdown",
      "metadata": {
        "id": "x-wHPhDeuuIe"
      },
      "source": [
        "This provides a brief description of Liverpool football club (LFC) data frame. The data frame here consist of 19 columns and 646 rows of data.Of all the 17 columns, 11 columns consist of numerical data while the rest contain string"
      ]
    },
    {
      "cell_type": "code",
      "metadata": {
        "colab": {
          "base_uri": "https://localhost:8080/",
          "height": 300
        },
        "id": "Jqp8Q-Gwtp7z",
        "outputId": "483714c9-5706-4e08-f298-75a6309eb299"
      },
      "source": [
        "liv.describe()"
      ],
      "execution_count": null,
      "outputs": [
        {
          "output_type": "execute_result",
          "data": {
            "text/html": [
              "<div>\n",
              "<style scoped>\n",
              "    .dataframe tbody tr th:only-of-type {\n",
              "        vertical-align: middle;\n",
              "    }\n",
              "\n",
              "    .dataframe tbody tr th {\n",
              "        vertical-align: top;\n",
              "    }\n",
              "\n",
              "    .dataframe thead th {\n",
              "        text-align: right;\n",
              "    }\n",
              "</style>\n",
              "<table border=\"1\" class=\"dataframe\">\n",
              "  <thead>\n",
              "    <tr style=\"text-align: right;\">\n",
              "      <th></th>\n",
              "      <th>FTHG</th>\n",
              "      <th>FTAG</th>\n",
              "      <th>HTHG</th>\n",
              "      <th>HTAG</th>\n",
              "      <th>HS</th>\n",
              "      <th>AS</th>\n",
              "      <th>HST</th>\n",
              "      <th>AST</th>\n",
              "      <th>HF</th>\n",
              "      <th>AF</th>\n",
              "      <th>HC</th>\n",
              "      <th>AC</th>\n",
              "      <th>HY</th>\n",
              "      <th>AY</th>\n",
              "      <th>HR</th>\n",
              "      <th>AR</th>\n",
              "      <th>TNOG</th>\n",
              "    </tr>\n",
              "  </thead>\n",
              "  <tbody>\n",
              "    <tr>\n",
              "      <th>count</th>\n",
              "      <td>646.000000</td>\n",
              "      <td>646.000000</td>\n",
              "      <td>646.000000</td>\n",
              "      <td>646.000000</td>\n",
              "      <td>646.000000</td>\n",
              "      <td>646.000000</td>\n",
              "      <td>646.000000</td>\n",
              "      <td>646.000000</td>\n",
              "      <td>646.000000</td>\n",
              "      <td>646.000000</td>\n",
              "      <td>646.000000</td>\n",
              "      <td>646.000000</td>\n",
              "      <td>646.000000</td>\n",
              "      <td>646.000000</td>\n",
              "      <td>646.000000</td>\n",
              "      <td>646.000000</td>\n",
              "      <td>646.000000</td>\n",
              "    </tr>\n",
              "    <tr>\n",
              "      <th>mean</th>\n",
              "      <td>1.599071</td>\n",
              "      <td>1.137771</td>\n",
              "      <td>0.721362</td>\n",
              "      <td>0.465944</td>\n",
              "      <td>13.676471</td>\n",
              "      <td>10.427245</td>\n",
              "      <td>6.487616</td>\n",
              "      <td>4.876161</td>\n",
              "      <td>11.003096</td>\n",
              "      <td>11.702786</td>\n",
              "      <td>6.038700</td>\n",
              "      <td>4.653251</td>\n",
              "      <td>1.312693</td>\n",
              "      <td>1.750774</td>\n",
              "      <td>0.074303</td>\n",
              "      <td>0.097523</td>\n",
              "      <td>2.736842</td>\n",
              "    </tr>\n",
              "    <tr>\n",
              "      <th>std</th>\n",
              "      <td>1.307794</td>\n",
              "      <td>1.205117</td>\n",
              "      <td>0.853488</td>\n",
              "      <td>0.696337</td>\n",
              "      <td>6.071331</td>\n",
              "      <td>4.815041</td>\n",
              "      <td>3.529148</td>\n",
              "      <td>3.002865</td>\n",
              "      <td>3.881180</td>\n",
              "      <td>4.038753</td>\n",
              "      <td>3.296235</td>\n",
              "      <td>2.807611</td>\n",
              "      <td>1.111488</td>\n",
              "      <td>1.270338</td>\n",
              "      <td>0.279627</td>\n",
              "      <td>0.317099</td>\n",
              "      <td>1.666479</td>\n",
              "    </tr>\n",
              "    <tr>\n",
              "      <th>min</th>\n",
              "      <td>0.000000</td>\n",
              "      <td>0.000000</td>\n",
              "      <td>0.000000</td>\n",
              "      <td>0.000000</td>\n",
              "      <td>1.000000</td>\n",
              "      <td>0.000000</td>\n",
              "      <td>0.000000</td>\n",
              "      <td>0.000000</td>\n",
              "      <td>2.000000</td>\n",
              "      <td>2.000000</td>\n",
              "      <td>0.000000</td>\n",
              "      <td>0.000000</td>\n",
              "      <td>0.000000</td>\n",
              "      <td>0.000000</td>\n",
              "      <td>0.000000</td>\n",
              "      <td>0.000000</td>\n",
              "      <td>0.000000</td>\n",
              "    </tr>\n",
              "    <tr>\n",
              "      <th>25%</th>\n",
              "      <td>1.000000</td>\n",
              "      <td>0.000000</td>\n",
              "      <td>0.000000</td>\n",
              "      <td>0.000000</td>\n",
              "      <td>9.000000</td>\n",
              "      <td>7.000000</td>\n",
              "      <td>4.000000</td>\n",
              "      <td>3.000000</td>\n",
              "      <td>8.000000</td>\n",
              "      <td>9.000000</td>\n",
              "      <td>4.000000</td>\n",
              "      <td>3.000000</td>\n",
              "      <td>0.000000</td>\n",
              "      <td>1.000000</td>\n",
              "      <td>0.000000</td>\n",
              "      <td>0.000000</td>\n",
              "      <td>2.000000</td>\n",
              "    </tr>\n",
              "    <tr>\n",
              "      <th>50%</th>\n",
              "      <td>1.000000</td>\n",
              "      <td>1.000000</td>\n",
              "      <td>0.500000</td>\n",
              "      <td>0.000000</td>\n",
              "      <td>13.000000</td>\n",
              "      <td>10.000000</td>\n",
              "      <td>6.000000</td>\n",
              "      <td>4.000000</td>\n",
              "      <td>11.000000</td>\n",
              "      <td>11.000000</td>\n",
              "      <td>6.000000</td>\n",
              "      <td>4.000000</td>\n",
              "      <td>1.000000</td>\n",
              "      <td>2.000000</td>\n",
              "      <td>0.000000</td>\n",
              "      <td>0.000000</td>\n",
              "      <td>3.000000</td>\n",
              "    </tr>\n",
              "    <tr>\n",
              "      <th>75%</th>\n",
              "      <td>2.000000</td>\n",
              "      <td>2.000000</td>\n",
              "      <td>1.000000</td>\n",
              "      <td>1.000000</td>\n",
              "      <td>17.750000</td>\n",
              "      <td>13.000000</td>\n",
              "      <td>9.000000</td>\n",
              "      <td>6.750000</td>\n",
              "      <td>13.000000</td>\n",
              "      <td>14.000000</td>\n",
              "      <td>8.000000</td>\n",
              "      <td>6.000000</td>\n",
              "      <td>2.000000</td>\n",
              "      <td>3.000000</td>\n",
              "      <td>0.000000</td>\n",
              "      <td>0.000000</td>\n",
              "      <td>4.000000</td>\n",
              "    </tr>\n",
              "    <tr>\n",
              "      <th>max</th>\n",
              "      <td>6.000000</td>\n",
              "      <td>6.000000</td>\n",
              "      <td>5.000000</td>\n",
              "      <td>4.000000</td>\n",
              "      <td>37.000000</td>\n",
              "      <td>26.000000</td>\n",
              "      <td>20.000000</td>\n",
              "      <td>15.000000</td>\n",
              "      <td>25.000000</td>\n",
              "      <td>27.000000</td>\n",
              "      <td>20.000000</td>\n",
              "      <td>17.000000</td>\n",
              "      <td>5.000000</td>\n",
              "      <td>7.000000</td>\n",
              "      <td>2.000000</td>\n",
              "      <td>2.000000</td>\n",
              "      <td>9.000000</td>\n",
              "    </tr>\n",
              "  </tbody>\n",
              "</table>\n",
              "</div>"
            ],
            "text/plain": [
              "             FTHG        FTAG        HTHG  ...          HR          AR        TNOG\n",
              "count  646.000000  646.000000  646.000000  ...  646.000000  646.000000  646.000000\n",
              "mean     1.599071    1.137771    0.721362  ...    0.074303    0.097523    2.736842\n",
              "std      1.307794    1.205117    0.853488  ...    0.279627    0.317099    1.666479\n",
              "min      0.000000    0.000000    0.000000  ...    0.000000    0.000000    0.000000\n",
              "25%      1.000000    0.000000    0.000000  ...    0.000000    0.000000    2.000000\n",
              "50%      1.000000    1.000000    0.500000  ...    0.000000    0.000000    3.000000\n",
              "75%      2.000000    2.000000    1.000000  ...    0.000000    0.000000    4.000000\n",
              "max      6.000000    6.000000    5.000000  ...    2.000000    2.000000    9.000000\n",
              "\n",
              "[8 rows x 17 columns]"
            ]
          },
          "metadata": {
            "tags": []
          },
          "execution_count": 111
        }
      ]
    },
    {
      "cell_type": "markdown",
      "metadata": {
        "id": "BIHj5Z73vB2f"
      },
      "source": [
        "The .describe|() command generates descriptive statistics that summarize the central tendency, dispersion and shape of a dataset’s distribution, excluding NaN values. From the above, it can be seen that of all the 646 english premiership games played between liverpool fc and other teams from 2000 - 2018 ended with an average of 2.73 ~ 3goals total number of goals scored at full time"
      ]
    },
    {
      "cell_type": "code",
      "metadata": {
        "colab": {
          "base_uri": "https://localhost:8080/",
          "height": 112
        },
        "id": "Byb6HN3ytp45",
        "outputId": "56fdea14-0d3b-4ca4-ab47-0c48094ba2aa"
      },
      "source": [
        "#liverpool fc matches that produced the most goals \r\n",
        "liv_htnog= liv.loc[liv['TNOG']== 9]\r\n",
        "liv_htnog"
      ],
      "execution_count": null,
      "outputs": [
        {
          "output_type": "execute_result",
          "data": {
            "text/html": [
              "<div>\n",
              "<style scoped>\n",
              "    .dataframe tbody tr th:only-of-type {\n",
              "        vertical-align: middle;\n",
              "    }\n",
              "\n",
              "    .dataframe tbody tr th {\n",
              "        vertical-align: top;\n",
              "    }\n",
              "\n",
              "    .dataframe thead th {\n",
              "        text-align: right;\n",
              "    }\n",
              "</style>\n",
              "<table border=\"1\" class=\"dataframe\">\n",
              "  <thead>\n",
              "    <tr style=\"text-align: right;\">\n",
              "      <th></th>\n",
              "      <th>Date</th>\n",
              "      <th>HomeTeam</th>\n",
              "      <th>AwayTeam</th>\n",
              "      <th>FTHG</th>\n",
              "      <th>FTAG</th>\n",
              "      <th>FTR</th>\n",
              "      <th>HTHG</th>\n",
              "      <th>HTAG</th>\n",
              "      <th>HTR</th>\n",
              "      <th>Referee</th>\n",
              "      <th>HS</th>\n",
              "      <th>AS</th>\n",
              "      <th>HST</th>\n",
              "      <th>AST</th>\n",
              "      <th>HF</th>\n",
              "      <th>AF</th>\n",
              "      <th>HC</th>\n",
              "      <th>AC</th>\n",
              "      <th>HY</th>\n",
              "      <th>AY</th>\n",
              "      <th>HR</th>\n",
              "      <th>AR</th>\n",
              "      <th>Season</th>\n",
              "      <th>TNOG</th>\n",
              "      <th>SF</th>\n",
              "    </tr>\n",
              "  </thead>\n",
              "  <tbody>\n",
              "    <tr>\n",
              "      <th>4851</th>\n",
              "      <td>22/03/14</td>\n",
              "      <td>Cardiff</td>\n",
              "      <td>Liverpool</td>\n",
              "      <td>3.0</td>\n",
              "      <td>6.0</td>\n",
              "      <td>A</td>\n",
              "      <td>2.0</td>\n",
              "      <td>2.0</td>\n",
              "      <td>D</td>\n",
              "      <td>N Swarbrick</td>\n",
              "      <td>9.0</td>\n",
              "      <td>19.0</td>\n",
              "      <td>3.0</td>\n",
              "      <td>9.0</td>\n",
              "      <td>14.0</td>\n",
              "      <td>11.0</td>\n",
              "      <td>4.0</td>\n",
              "      <td>6.0</td>\n",
              "      <td>2.0</td>\n",
              "      <td>3.0</td>\n",
              "      <td>0.0</td>\n",
              "      <td>0.0</td>\n",
              "      <td>13-14</td>\n",
              "      <td>9.0</td>\n",
              "      <td>high</td>\n",
              "    </tr>\n",
              "    <tr>\n",
              "      <th>5544</th>\n",
              "      <td>23/01/16</td>\n",
              "      <td>Norwich</td>\n",
              "      <td>Liverpool</td>\n",
              "      <td>4.0</td>\n",
              "      <td>5.0</td>\n",
              "      <td>A</td>\n",
              "      <td>2.0</td>\n",
              "      <td>1.0</td>\n",
              "      <td>H</td>\n",
              "      <td>L Mason</td>\n",
              "      <td>6.0</td>\n",
              "      <td>13.0</td>\n",
              "      <td>5.0</td>\n",
              "      <td>7.0</td>\n",
              "      <td>10.0</td>\n",
              "      <td>14.0</td>\n",
              "      <td>3.0</td>\n",
              "      <td>3.0</td>\n",
              "      <td>0.0</td>\n",
              "      <td>1.0</td>\n",
              "      <td>0.0</td>\n",
              "      <td>0.0</td>\n",
              "      <td>15-16</td>\n",
              "      <td>9.0</td>\n",
              "      <td>high</td>\n",
              "    </tr>\n",
              "  </tbody>\n",
              "</table>\n",
              "</div>"
            ],
            "text/plain": [
              "          Date HomeTeam   AwayTeam  FTHG  FTAG  ...   HR   AR  Season TNOG    SF\n",
              "4851  22/03/14  Cardiff  Liverpool   3.0   6.0  ...  0.0  0.0   13-14  9.0  high\n",
              "5544  23/01/16  Norwich  Liverpool   4.0   5.0  ...  0.0  0.0   15-16  9.0  high\n",
              "\n",
              "[2 rows x 25 columns]"
            ]
          },
          "metadata": {
            "tags": []
          },
          "execution_count": 112
        }
      ]
    },
    {
      "cell_type": "code",
      "metadata": {
        "colab": {
          "base_uri": "https://localhost:8080/",
          "height": 81
        },
        "id": "Z9Fj3Bgsu55A",
        "outputId": "67ff6f89-8c59-44a8-8d5c-3ab77d0c65d4"
      },
      "source": [
        "#Away matches where Liverpool fc scored the most goals at half time\r\n",
        "liv_hshtag = liv.loc[((liv['HTR']=='A') & (liv['AwayTeam']== 'Liverpool') & (liv['HTAG']== 4))]\r\n",
        "liv_hshtag"
      ],
      "execution_count": null,
      "outputs": [
        {
          "output_type": "execute_result",
          "data": {
            "text/html": [
              "<div>\n",
              "<style scoped>\n",
              "    .dataframe tbody tr th:only-of-type {\n",
              "        vertical-align: middle;\n",
              "    }\n",
              "\n",
              "    .dataframe tbody tr th {\n",
              "        vertical-align: top;\n",
              "    }\n",
              "\n",
              "    .dataframe thead th {\n",
              "        text-align: right;\n",
              "    }\n",
              "</style>\n",
              "<table border=\"1\" class=\"dataframe\">\n",
              "  <thead>\n",
              "    <tr style=\"text-align: right;\">\n",
              "      <th></th>\n",
              "      <th>Date</th>\n",
              "      <th>HomeTeam</th>\n",
              "      <th>AwayTeam</th>\n",
              "      <th>FTHG</th>\n",
              "      <th>FTAG</th>\n",
              "      <th>FTR</th>\n",
              "      <th>HTHG</th>\n",
              "      <th>HTAG</th>\n",
              "      <th>HTR</th>\n",
              "      <th>Referee</th>\n",
              "      <th>HS</th>\n",
              "      <th>AS</th>\n",
              "      <th>HST</th>\n",
              "      <th>AST</th>\n",
              "      <th>HF</th>\n",
              "      <th>AF</th>\n",
              "      <th>HC</th>\n",
              "      <th>AC</th>\n",
              "      <th>HY</th>\n",
              "      <th>AY</th>\n",
              "      <th>HR</th>\n",
              "      <th>AR</th>\n",
              "      <th>Season</th>\n",
              "      <th>TNOG</th>\n",
              "      <th>SF</th>\n",
              "    </tr>\n",
              "  </thead>\n",
              "  <tbody>\n",
              "    <tr>\n",
              "      <th>2050</th>\n",
              "      <td>02/12/06</td>\n",
              "      <td>Wigan</td>\n",
              "      <td>Liverpool</td>\n",
              "      <td>0.0</td>\n",
              "      <td>4.0</td>\n",
              "      <td>A</td>\n",
              "      <td>0.0</td>\n",
              "      <td>4.0</td>\n",
              "      <td>A</td>\n",
              "      <td>M Riley</td>\n",
              "      <td>15.0</td>\n",
              "      <td>9.0</td>\n",
              "      <td>6.0</td>\n",
              "      <td>6.0</td>\n",
              "      <td>9.0</td>\n",
              "      <td>14.0</td>\n",
              "      <td>8.0</td>\n",
              "      <td>2.0</td>\n",
              "      <td>2.0</td>\n",
              "      <td>2.0</td>\n",
              "      <td>0.0</td>\n",
              "      <td>0.0</td>\n",
              "      <td>06-07</td>\n",
              "      <td>4.0</td>\n",
              "      <td>mid</td>\n",
              "    </tr>\n",
              "  </tbody>\n",
              "</table>\n",
              "</div>"
            ],
            "text/plain": [
              "          Date HomeTeam   AwayTeam  FTHG  FTAG  ...   HR   AR  Season TNOG   SF\n",
              "2050  02/12/06    Wigan  Liverpool   0.0   4.0  ...  0.0  0.0   06-07  4.0  mid\n",
              "\n",
              "[1 rows x 25 columns]"
            ]
          },
          "metadata": {
            "tags": []
          },
          "execution_count": 113
        }
      ]
    },
    {
      "cell_type": "code",
      "metadata": {
        "colab": {
          "base_uri": "https://localhost:8080/",
          "height": 81
        },
        "id": "O0oFp7CQtp2D",
        "outputId": "15b36ef7-4db2-4692-ed88-5de1edb7feb0"
      },
      "source": [
        "#Home matches where Liverpool fc scored the most goals at half time\r\n",
        "liv_hshthg = liv.loc[((liv['HTR']=='H') & (liv['HomeTeam']== 'Liverpool')& (liv['HTHG']== 4))]\r\n",
        "liv_hshthg"
      ],
      "execution_count": null,
      "outputs": [
        {
          "output_type": "execute_result",
          "data": {
            "text/html": [
              "<div>\n",
              "<style scoped>\n",
              "    .dataframe tbody tr th:only-of-type {\n",
              "        vertical-align: middle;\n",
              "    }\n",
              "\n",
              "    .dataframe tbody tr th {\n",
              "        vertical-align: top;\n",
              "    }\n",
              "\n",
              "    .dataframe thead th {\n",
              "        text-align: right;\n",
              "    }\n",
              "</style>\n",
              "<table border=\"1\" class=\"dataframe\">\n",
              "  <thead>\n",
              "    <tr style=\"text-align: right;\">\n",
              "      <th></th>\n",
              "      <th>Date</th>\n",
              "      <th>HomeTeam</th>\n",
              "      <th>AwayTeam</th>\n",
              "      <th>FTHG</th>\n",
              "      <th>FTAG</th>\n",
              "      <th>FTR</th>\n",
              "      <th>HTHG</th>\n",
              "      <th>HTAG</th>\n",
              "      <th>HTR</th>\n",
              "      <th>Referee</th>\n",
              "      <th>HS</th>\n",
              "      <th>AS</th>\n",
              "      <th>HST</th>\n",
              "      <th>AST</th>\n",
              "      <th>HF</th>\n",
              "      <th>AF</th>\n",
              "      <th>HC</th>\n",
              "      <th>AC</th>\n",
              "      <th>HY</th>\n",
              "      <th>AY</th>\n",
              "      <th>HR</th>\n",
              "      <th>AR</th>\n",
              "      <th>Season</th>\n",
              "      <th>TNOG</th>\n",
              "      <th>SF</th>\n",
              "    </tr>\n",
              "  </thead>\n",
              "  <tbody>\n",
              "    <tr>\n",
              "      <th>4803</th>\n",
              "      <td>08/02/14</td>\n",
              "      <td>Liverpool</td>\n",
              "      <td>Arsenal</td>\n",
              "      <td>5.0</td>\n",
              "      <td>1.0</td>\n",
              "      <td>H</td>\n",
              "      <td>4.0</td>\n",
              "      <td>0.0</td>\n",
              "      <td>H</td>\n",
              "      <td>M Oliver</td>\n",
              "      <td>22.0</td>\n",
              "      <td>11.0</td>\n",
              "      <td>12.0</td>\n",
              "      <td>6.0</td>\n",
              "      <td>14.0</td>\n",
              "      <td>14.0</td>\n",
              "      <td>6.0</td>\n",
              "      <td>6.0</td>\n",
              "      <td>1.0</td>\n",
              "      <td>2.0</td>\n",
              "      <td>0.0</td>\n",
              "      <td>0.0</td>\n",
              "      <td>13-14</td>\n",
              "      <td>6.0</td>\n",
              "      <td>high</td>\n",
              "    </tr>\n",
              "  </tbody>\n",
              "</table>\n",
              "</div>"
            ],
            "text/plain": [
              "          Date   HomeTeam AwayTeam  FTHG  FTAG  ...   HR   AR  Season TNOG    SF\n",
              "4803  08/02/14  Liverpool  Arsenal   5.0   1.0  ...  0.0  0.0   13-14  6.0  high\n",
              "\n",
              "[1 rows x 25 columns]"
            ]
          },
          "metadata": {
            "tags": []
          },
          "execution_count": 114
        }
      ]
    },
    {
      "cell_type": "code",
      "metadata": {
        "colab": {
          "base_uri": "https://localhost:8080/",
          "height": 143
        },
        "id": "6MEUjaF5tpxC",
        "outputId": "df7740b0-b999-4a26-d3a1-97d919764097"
      },
      "source": [
        "#Home matches where Liverpool fc scored the most goals at full time\r\n",
        "liv_hsfthg = liv.loc[((liv['FTR']=='H') & (liv['HomeTeam']== 'Liverpool')& (liv['FTHG']== 6))]\r\n",
        "liv_hsfthg"
      ],
      "execution_count": null,
      "outputs": [
        {
          "output_type": "execute_result",
          "data": {
            "text/html": [
              "<div>\n",
              "<style scoped>\n",
              "    .dataframe tbody tr th:only-of-type {\n",
              "        vertical-align: middle;\n",
              "    }\n",
              "\n",
              "    .dataframe tbody tr th {\n",
              "        vertical-align: top;\n",
              "    }\n",
              "\n",
              "    .dataframe thead th {\n",
              "        text-align: right;\n",
              "    }\n",
              "</style>\n",
              "<table border=\"1\" class=\"dataframe\">\n",
              "  <thead>\n",
              "    <tr style=\"text-align: right;\">\n",
              "      <th></th>\n",
              "      <th>Date</th>\n",
              "      <th>HomeTeam</th>\n",
              "      <th>AwayTeam</th>\n",
              "      <th>FTHG</th>\n",
              "      <th>FTAG</th>\n",
              "      <th>FTR</th>\n",
              "      <th>HTHG</th>\n",
              "      <th>HTAG</th>\n",
              "      <th>HTR</th>\n",
              "      <th>Referee</th>\n",
              "      <th>HS</th>\n",
              "      <th>AS</th>\n",
              "      <th>HST</th>\n",
              "      <th>AST</th>\n",
              "      <th>HF</th>\n",
              "      <th>AF</th>\n",
              "      <th>HC</th>\n",
              "      <th>AC</th>\n",
              "      <th>HY</th>\n",
              "      <th>AY</th>\n",
              "      <th>HR</th>\n",
              "      <th>AR</th>\n",
              "      <th>Season</th>\n",
              "      <th>TNOG</th>\n",
              "      <th>SF</th>\n",
              "    </tr>\n",
              "  </thead>\n",
              "  <tbody>\n",
              "    <tr>\n",
              "      <th>2319</th>\n",
              "      <td>01/09/07</td>\n",
              "      <td>Liverpool</td>\n",
              "      <td>Derby</td>\n",
              "      <td>6.0</td>\n",
              "      <td>0.0</td>\n",
              "      <td>H</td>\n",
              "      <td>2.0</td>\n",
              "      <td>0.0</td>\n",
              "      <td>H</td>\n",
              "      <td>A Wiley</td>\n",
              "      <td>20.0</td>\n",
              "      <td>8.0</td>\n",
              "      <td>10.0</td>\n",
              "      <td>3.0</td>\n",
              "      <td>10.0</td>\n",
              "      <td>14.0</td>\n",
              "      <td>4.0</td>\n",
              "      <td>2.0</td>\n",
              "      <td>0.0</td>\n",
              "      <td>1.0</td>\n",
              "      <td>0.0</td>\n",
              "      <td>0.0</td>\n",
              "      <td>07-08</td>\n",
              "      <td>6.0</td>\n",
              "      <td>high</td>\n",
              "    </tr>\n",
              "    <tr>\n",
              "      <th>3099</th>\n",
              "      <td>26/09/09</td>\n",
              "      <td>Liverpool</td>\n",
              "      <td>Hull</td>\n",
              "      <td>6.0</td>\n",
              "      <td>1.0</td>\n",
              "      <td>H</td>\n",
              "      <td>2.0</td>\n",
              "      <td>1.0</td>\n",
              "      <td>H</td>\n",
              "      <td>P Walton</td>\n",
              "      <td>22.0</td>\n",
              "      <td>7.0</td>\n",
              "      <td>14.0</td>\n",
              "      <td>3.0</td>\n",
              "      <td>10.0</td>\n",
              "      <td>3.0</td>\n",
              "      <td>13.0</td>\n",
              "      <td>2.0</td>\n",
              "      <td>1.0</td>\n",
              "      <td>4.0</td>\n",
              "      <td>0.0</td>\n",
              "      <td>0.0</td>\n",
              "      <td>09-10</td>\n",
              "      <td>7.0</td>\n",
              "      <td>high</td>\n",
              "    </tr>\n",
              "    <tr>\n",
              "      <th>5809</th>\n",
              "      <td>06/11/16</td>\n",
              "      <td>Liverpool</td>\n",
              "      <td>Watford</td>\n",
              "      <td>6.0</td>\n",
              "      <td>1.0</td>\n",
              "      <td>H</td>\n",
              "      <td>3.0</td>\n",
              "      <td>0.0</td>\n",
              "      <td>H</td>\n",
              "      <td>M Oliver</td>\n",
              "      <td>28.0</td>\n",
              "      <td>11.0</td>\n",
              "      <td>17.0</td>\n",
              "      <td>8.0</td>\n",
              "      <td>14.0</td>\n",
              "      <td>10.0</td>\n",
              "      <td>6.0</td>\n",
              "      <td>3.0</td>\n",
              "      <td>1.0</td>\n",
              "      <td>2.0</td>\n",
              "      <td>0.0</td>\n",
              "      <td>0.0</td>\n",
              "      <td>16-17</td>\n",
              "      <td>7.0</td>\n",
              "      <td>high</td>\n",
              "    </tr>\n",
              "  </tbody>\n",
              "</table>\n",
              "</div>"
            ],
            "text/plain": [
              "          Date   HomeTeam AwayTeam  FTHG  FTAG  ...   HR   AR  Season TNOG    SF\n",
              "2319  01/09/07  Liverpool    Derby   6.0   0.0  ...  0.0  0.0   07-08  6.0  high\n",
              "3099  26/09/09  Liverpool     Hull   6.0   1.0  ...  0.0  0.0   09-10  7.0  high\n",
              "5809  06/11/16  Liverpool  Watford   6.0   1.0  ...  0.0  0.0   16-17  7.0  high\n",
              "\n",
              "[3 rows x 25 columns]"
            ]
          },
          "metadata": {
            "tags": []
          },
          "execution_count": 115
        }
      ]
    },
    {
      "cell_type": "code",
      "metadata": {
        "colab": {
          "base_uri": "https://localhost:8080/",
          "height": 175
        },
        "id": "HSWjD94otppL",
        "outputId": "4941f776-164d-42df-e29a-599283356284"
      },
      "source": [
        "#Away matches where liverpool fc scored the most goals at full time\r\n",
        "liv_hsftag= liv.loc[((liv['FTR']=='A') & (liv['AwayTeam']== 'Liverpool')& (liv['FTAG']== 6))]\r\n",
        "liv_hsftag"
      ],
      "execution_count": null,
      "outputs": [
        {
          "output_type": "execute_result",
          "data": {
            "text/html": [
              "<div>\n",
              "<style scoped>\n",
              "    .dataframe tbody tr th:only-of-type {\n",
              "        vertical-align: middle;\n",
              "    }\n",
              "\n",
              "    .dataframe tbody tr th {\n",
              "        vertical-align: top;\n",
              "    }\n",
              "\n",
              "    .dataframe thead th {\n",
              "        text-align: right;\n",
              "    }\n",
              "</style>\n",
              "<table border=\"1\" class=\"dataframe\">\n",
              "  <thead>\n",
              "    <tr style=\"text-align: right;\">\n",
              "      <th></th>\n",
              "      <th>Date</th>\n",
              "      <th>HomeTeam</th>\n",
              "      <th>AwayTeam</th>\n",
              "      <th>FTHG</th>\n",
              "      <th>FTAG</th>\n",
              "      <th>FTR</th>\n",
              "      <th>HTHG</th>\n",
              "      <th>HTAG</th>\n",
              "      <th>HTR</th>\n",
              "      <th>Referee</th>\n",
              "      <th>HS</th>\n",
              "      <th>AS</th>\n",
              "      <th>HST</th>\n",
              "      <th>AST</th>\n",
              "      <th>HF</th>\n",
              "      <th>AF</th>\n",
              "      <th>HC</th>\n",
              "      <th>AC</th>\n",
              "      <th>HY</th>\n",
              "      <th>AY</th>\n",
              "      <th>HR</th>\n",
              "      <th>AR</th>\n",
              "      <th>Season</th>\n",
              "      <th>TNOG</th>\n",
              "      <th>SF</th>\n",
              "    </tr>\n",
              "  </thead>\n",
              "  <tbody>\n",
              "    <tr>\n",
              "      <th>736</th>\n",
              "      <td>26/04/2003</td>\n",
              "      <td>West Brom</td>\n",
              "      <td>Liverpool</td>\n",
              "      <td>0.0</td>\n",
              "      <td>6.0</td>\n",
              "      <td>A</td>\n",
              "      <td>0.0</td>\n",
              "      <td>1.0</td>\n",
              "      <td>A</td>\n",
              "      <td>D Gallagher</td>\n",
              "      <td>9.0</td>\n",
              "      <td>18.0</td>\n",
              "      <td>5.0</td>\n",
              "      <td>14.0</td>\n",
              "      <td>12.0</td>\n",
              "      <td>6.0</td>\n",
              "      <td>4.0</td>\n",
              "      <td>3.0</td>\n",
              "      <td>1.0</td>\n",
              "      <td>1.0</td>\n",
              "      <td>0.0</td>\n",
              "      <td>0.0</td>\n",
              "      <td>02-03</td>\n",
              "      <td>6.0</td>\n",
              "      <td>high</td>\n",
              "    </tr>\n",
              "    <tr>\n",
              "      <th>4519</th>\n",
              "      <td>27/04/13</td>\n",
              "      <td>Newcastle</td>\n",
              "      <td>Liverpool</td>\n",
              "      <td>0.0</td>\n",
              "      <td>6.0</td>\n",
              "      <td>A</td>\n",
              "      <td>0.0</td>\n",
              "      <td>2.0</td>\n",
              "      <td>A</td>\n",
              "      <td>A Marriner</td>\n",
              "      <td>5.0</td>\n",
              "      <td>11.0</td>\n",
              "      <td>1.0</td>\n",
              "      <td>10.0</td>\n",
              "      <td>14.0</td>\n",
              "      <td>7.0</td>\n",
              "      <td>5.0</td>\n",
              "      <td>7.0</td>\n",
              "      <td>3.0</td>\n",
              "      <td>2.0</td>\n",
              "      <td>1.0</td>\n",
              "      <td>0.0</td>\n",
              "      <td>12-13</td>\n",
              "      <td>6.0</td>\n",
              "      <td>high</td>\n",
              "    </tr>\n",
              "    <tr>\n",
              "      <th>4851</th>\n",
              "      <td>22/03/14</td>\n",
              "      <td>Cardiff</td>\n",
              "      <td>Liverpool</td>\n",
              "      <td>3.0</td>\n",
              "      <td>6.0</td>\n",
              "      <td>A</td>\n",
              "      <td>2.0</td>\n",
              "      <td>2.0</td>\n",
              "      <td>D</td>\n",
              "      <td>N Swarbrick</td>\n",
              "      <td>9.0</td>\n",
              "      <td>19.0</td>\n",
              "      <td>3.0</td>\n",
              "      <td>9.0</td>\n",
              "      <td>14.0</td>\n",
              "      <td>11.0</td>\n",
              "      <td>4.0</td>\n",
              "      <td>6.0</td>\n",
              "      <td>2.0</td>\n",
              "      <td>3.0</td>\n",
              "      <td>0.0</td>\n",
              "      <td>0.0</td>\n",
              "      <td>13-14</td>\n",
              "      <td>9.0</td>\n",
              "      <td>high</td>\n",
              "    </tr>\n",
              "    <tr>\n",
              "      <th>5579</th>\n",
              "      <td>14/02/16</td>\n",
              "      <td>Aston Villa</td>\n",
              "      <td>Liverpool</td>\n",
              "      <td>0.0</td>\n",
              "      <td>6.0</td>\n",
              "      <td>A</td>\n",
              "      <td>0.0</td>\n",
              "      <td>2.0</td>\n",
              "      <td>A</td>\n",
              "      <td>N Swarbrick</td>\n",
              "      <td>6.0</td>\n",
              "      <td>11.0</td>\n",
              "      <td>1.0</td>\n",
              "      <td>9.0</td>\n",
              "      <td>10.0</td>\n",
              "      <td>9.0</td>\n",
              "      <td>0.0</td>\n",
              "      <td>6.0</td>\n",
              "      <td>3.0</td>\n",
              "      <td>1.0</td>\n",
              "      <td>0.0</td>\n",
              "      <td>0.0</td>\n",
              "      <td>15-16</td>\n",
              "      <td>6.0</td>\n",
              "      <td>high</td>\n",
              "    </tr>\n",
              "  </tbody>\n",
              "</table>\n",
              "</div>"
            ],
            "text/plain": [
              "            Date     HomeTeam   AwayTeam  FTHG  ...   AR Season  TNOG    SF\n",
              "736   26/04/2003    West Brom  Liverpool   0.0  ...  0.0  02-03   6.0  high\n",
              "4519    27/04/13    Newcastle  Liverpool   0.0  ...  0.0  12-13   6.0  high\n",
              "4851    22/03/14      Cardiff  Liverpool   3.0  ...  0.0  13-14   9.0  high\n",
              "5579    14/02/16  Aston Villa  Liverpool   0.0  ...  0.0  15-16   6.0  high\n",
              "\n",
              "[4 rows x 25 columns]"
            ]
          },
          "metadata": {
            "tags": []
          },
          "execution_count": 116
        }
      ]
    },
    {
      "cell_type": "code",
      "metadata": {
        "colab": {
          "base_uri": "https://localhost:8080/"
        },
        "id": "mStjQb6ttpkq",
        "outputId": "ac338429-6f6d-44a8-d658-bc22ef08d803"
      },
      "source": [
        "liv['Referee'].unique()"
      ],
      "execution_count": null,
      "outputs": [
        {
          "output_type": "execute_result",
          "data": {
            "text/plain": [
              "array(['Paul Durkin', 'Graham Poll', 'Jeff Winter', 'Neale Barry',\n",
              "       'Graham Barber', 'David Ellaray', 'Mike Riley', 'Dermot Gallagher',\n",
              "       'Steve Bennett', \"Andy D'Urso\", 'Mark Halsey', 'Barry Knight',\n",
              "       'Rob Styles', 'Alan Wiley', 'Steve Lodge', 'Steve Dunn',\n",
              "       'Peter Jones', \"A D'Urso\", 'J Winter', 'S Bennett', 'G Poll',\n",
              "       'N Barry', 'R Styles', 'D Elleray', 'P Durkin', 'G Barber',\n",
              "       'S Dunn', 'M Riley', 'E Wolstenholme', 'M Halsey', 'A Wiley',\n",
              "       'D Gallagher', 'M Messias', 'C Wilkes', 'U Rennie', 'P Dowd',\n",
              "       'B Knight', 'M Clattenburg', 'H Webb', '�D Gallagher',\n",
              "       'M Atkinson', 'P Walton', 'A Marriner', 'L Mason', 'S Tanner',\n",
              "       'M Jones', 'L Probert', 'S Attwell', 'K Friend', 'M Oliver',\n",
              "       'A Taylor', 'N Swarbrick', 'R East', 'J Moss', 'C Pawson',\n",
              "       'R Madley', 'M Dean', 'G Scott', 'P Tierney', 'C Kavanagh'],\n",
              "      dtype=object)"
            ]
          },
          "metadata": {
            "tags": []
          },
          "execution_count": 117
        }
      ]
    },
    {
      "cell_type": "code",
      "metadata": {
        "colab": {
          "base_uri": "https://localhost:8080/",
          "height": 1000
        },
        "id": "hWsTAzxBtpiT",
        "outputId": "5baf39fd-1955-4b93-f6e2-656a8a02d7f7"
      },
      "source": [
        "b = pd.Categorical(liv['Referee'])\r\n",
        "b.describe()"
      ],
      "execution_count": null,
      "outputs": [
        {
          "output_type": "execute_result",
          "data": {
            "text/html": [
              "<div>\n",
              "<style scoped>\n",
              "    .dataframe tbody tr th:only-of-type {\n",
              "        vertical-align: middle;\n",
              "    }\n",
              "\n",
              "    .dataframe tbody tr th {\n",
              "        vertical-align: top;\n",
              "    }\n",
              "\n",
              "    .dataframe thead th {\n",
              "        text-align: right;\n",
              "    }\n",
              "</style>\n",
              "<table border=\"1\" class=\"dataframe\">\n",
              "  <thead>\n",
              "    <tr style=\"text-align: right;\">\n",
              "      <th></th>\n",
              "      <th>counts</th>\n",
              "      <th>freqs</th>\n",
              "    </tr>\n",
              "    <tr>\n",
              "      <th>categories</th>\n",
              "      <th></th>\n",
              "      <th></th>\n",
              "    </tr>\n",
              "  </thead>\n",
              "  <tbody>\n",
              "    <tr>\n",
              "      <th>A D'Urso</th>\n",
              "      <td>5</td>\n",
              "      <td>0.007740</td>\n",
              "    </tr>\n",
              "    <tr>\n",
              "      <th>A Marriner</th>\n",
              "      <td>38</td>\n",
              "      <td>0.058824</td>\n",
              "    </tr>\n",
              "    <tr>\n",
              "      <th>A Taylor</th>\n",
              "      <td>29</td>\n",
              "      <td>0.044892</td>\n",
              "    </tr>\n",
              "    <tr>\n",
              "      <th>A Wiley</th>\n",
              "      <td>31</td>\n",
              "      <td>0.047988</td>\n",
              "    </tr>\n",
              "    <tr>\n",
              "      <th>Alan Wiley</th>\n",
              "      <td>2</td>\n",
              "      <td>0.003096</td>\n",
              "    </tr>\n",
              "    <tr>\n",
              "      <th>Andy D'Urso</th>\n",
              "      <td>1</td>\n",
              "      <td>0.001548</td>\n",
              "    </tr>\n",
              "    <tr>\n",
              "      <th>B Knight</th>\n",
              "      <td>5</td>\n",
              "      <td>0.007740</td>\n",
              "    </tr>\n",
              "    <tr>\n",
              "      <th>Barry Knight</th>\n",
              "      <td>2</td>\n",
              "      <td>0.003096</td>\n",
              "    </tr>\n",
              "    <tr>\n",
              "      <th>C Kavanagh</th>\n",
              "      <td>1</td>\n",
              "      <td>0.001548</td>\n",
              "    </tr>\n",
              "    <tr>\n",
              "      <th>C Pawson</th>\n",
              "      <td>15</td>\n",
              "      <td>0.023220</td>\n",
              "    </tr>\n",
              "    <tr>\n",
              "      <th>C Wilkes</th>\n",
              "      <td>1</td>\n",
              "      <td>0.001548</td>\n",
              "    </tr>\n",
              "    <tr>\n",
              "      <th>D Elleray</th>\n",
              "      <td>1</td>\n",
              "      <td>0.001548</td>\n",
              "    </tr>\n",
              "    <tr>\n",
              "      <th>D Gallagher</th>\n",
              "      <td>7</td>\n",
              "      <td>0.010836</td>\n",
              "    </tr>\n",
              "    <tr>\n",
              "      <th>David Ellaray</th>\n",
              "      <td>2</td>\n",
              "      <td>0.003096</td>\n",
              "    </tr>\n",
              "    <tr>\n",
              "      <th>Dermot Gallagher</th>\n",
              "      <td>4</td>\n",
              "      <td>0.006192</td>\n",
              "    </tr>\n",
              "    <tr>\n",
              "      <th>E Wolstenholme</th>\n",
              "      <td>1</td>\n",
              "      <td>0.001548</td>\n",
              "    </tr>\n",
              "    <tr>\n",
              "      <th>G Barber</th>\n",
              "      <td>4</td>\n",
              "      <td>0.006192</td>\n",
              "    </tr>\n",
              "    <tr>\n",
              "      <th>G Poll</th>\n",
              "      <td>17</td>\n",
              "      <td>0.026316</td>\n",
              "    </tr>\n",
              "    <tr>\n",
              "      <th>G Scott</th>\n",
              "      <td>2</td>\n",
              "      <td>0.003096</td>\n",
              "    </tr>\n",
              "    <tr>\n",
              "      <th>Graham Barber</th>\n",
              "      <td>4</td>\n",
              "      <td>0.006192</td>\n",
              "    </tr>\n",
              "    <tr>\n",
              "      <th>Graham Poll</th>\n",
              "      <td>2</td>\n",
              "      <td>0.003096</td>\n",
              "    </tr>\n",
              "    <tr>\n",
              "      <th>H Webb</th>\n",
              "      <td>35</td>\n",
              "      <td>0.054180</td>\n",
              "    </tr>\n",
              "    <tr>\n",
              "      <th>J Moss</th>\n",
              "      <td>14</td>\n",
              "      <td>0.021672</td>\n",
              "    </tr>\n",
              "    <tr>\n",
              "      <th>J Winter</th>\n",
              "      <td>5</td>\n",
              "      <td>0.007740</td>\n",
              "    </tr>\n",
              "    <tr>\n",
              "      <th>Jeff Winter</th>\n",
              "      <td>3</td>\n",
              "      <td>0.004644</td>\n",
              "    </tr>\n",
              "    <tr>\n",
              "      <th>K Friend</th>\n",
              "      <td>21</td>\n",
              "      <td>0.032508</td>\n",
              "    </tr>\n",
              "    <tr>\n",
              "      <th>L Mason</th>\n",
              "      <td>26</td>\n",
              "      <td>0.040248</td>\n",
              "    </tr>\n",
              "    <tr>\n",
              "      <th>L Probert</th>\n",
              "      <td>13</td>\n",
              "      <td>0.020124</td>\n",
              "    </tr>\n",
              "    <tr>\n",
              "      <th>M Atkinson</th>\n",
              "      <td>44</td>\n",
              "      <td>0.068111</td>\n",
              "    </tr>\n",
              "    <tr>\n",
              "      <th>M Clattenburg</th>\n",
              "      <td>25</td>\n",
              "      <td>0.038700</td>\n",
              "    </tr>\n",
              "    <tr>\n",
              "      <th>M Dean</th>\n",
              "      <td>2</td>\n",
              "      <td>0.003096</td>\n",
              "    </tr>\n",
              "    <tr>\n",
              "      <th>M Halsey</th>\n",
              "      <td>30</td>\n",
              "      <td>0.046440</td>\n",
              "    </tr>\n",
              "    <tr>\n",
              "      <th>M Jones</th>\n",
              "      <td>12</td>\n",
              "      <td>0.018576</td>\n",
              "    </tr>\n",
              "    <tr>\n",
              "      <th>M Messias</th>\n",
              "      <td>1</td>\n",
              "      <td>0.001548</td>\n",
              "    </tr>\n",
              "    <tr>\n",
              "      <th>M Oliver</th>\n",
              "      <td>26</td>\n",
              "      <td>0.040248</td>\n",
              "    </tr>\n",
              "    <tr>\n",
              "      <th>M Riley</th>\n",
              "      <td>23</td>\n",
              "      <td>0.035604</td>\n",
              "    </tr>\n",
              "    <tr>\n",
              "      <th>Mark Halsey</th>\n",
              "      <td>2</td>\n",
              "      <td>0.003096</td>\n",
              "    </tr>\n",
              "    <tr>\n",
              "      <th>Mike Riley</th>\n",
              "      <td>3</td>\n",
              "      <td>0.004644</td>\n",
              "    </tr>\n",
              "    <tr>\n",
              "      <th>N Barry</th>\n",
              "      <td>6</td>\n",
              "      <td>0.009288</td>\n",
              "    </tr>\n",
              "    <tr>\n",
              "      <th>N Swarbrick</th>\n",
              "      <td>14</td>\n",
              "      <td>0.021672</td>\n",
              "    </tr>\n",
              "    <tr>\n",
              "      <th>Neale Barry</th>\n",
              "      <td>2</td>\n",
              "      <td>0.003096</td>\n",
              "    </tr>\n",
              "    <tr>\n",
              "      <th>P Dowd</th>\n",
              "      <td>41</td>\n",
              "      <td>0.063467</td>\n",
              "    </tr>\n",
              "    <tr>\n",
              "      <th>P Durkin</th>\n",
              "      <td>6</td>\n",
              "      <td>0.009288</td>\n",
              "    </tr>\n",
              "    <tr>\n",
              "      <th>P Tierney</th>\n",
              "      <td>1</td>\n",
              "      <td>0.001548</td>\n",
              "    </tr>\n",
              "    <tr>\n",
              "      <th>P Walton</th>\n",
              "      <td>20</td>\n",
              "      <td>0.030960</td>\n",
              "    </tr>\n",
              "    <tr>\n",
              "      <th>Paul Durkin</th>\n",
              "      <td>3</td>\n",
              "      <td>0.004644</td>\n",
              "    </tr>\n",
              "    <tr>\n",
              "      <th>Peter Jones</th>\n",
              "      <td>1</td>\n",
              "      <td>0.001548</td>\n",
              "    </tr>\n",
              "    <tr>\n",
              "      <th>R East</th>\n",
              "      <td>7</td>\n",
              "      <td>0.010836</td>\n",
              "    </tr>\n",
              "    <tr>\n",
              "      <th>R Madley</th>\n",
              "      <td>8</td>\n",
              "      <td>0.012384</td>\n",
              "    </tr>\n",
              "    <tr>\n",
              "      <th>R Styles</th>\n",
              "      <td>19</td>\n",
              "      <td>0.029412</td>\n",
              "    </tr>\n",
              "    <tr>\n",
              "      <th>Rob Styles</th>\n",
              "      <td>1</td>\n",
              "      <td>0.001548</td>\n",
              "    </tr>\n",
              "    <tr>\n",
              "      <th>S Attwell</th>\n",
              "      <td>4</td>\n",
              "      <td>0.006192</td>\n",
              "    </tr>\n",
              "    <tr>\n",
              "      <th>S Bennett</th>\n",
              "      <td>25</td>\n",
              "      <td>0.038700</td>\n",
              "    </tr>\n",
              "    <tr>\n",
              "      <th>S Dunn</th>\n",
              "      <td>6</td>\n",
              "      <td>0.009288</td>\n",
              "    </tr>\n",
              "    <tr>\n",
              "      <th>S Tanner</th>\n",
              "      <td>2</td>\n",
              "      <td>0.003096</td>\n",
              "    </tr>\n",
              "    <tr>\n",
              "      <th>Steve Bennett</th>\n",
              "      <td>3</td>\n",
              "      <td>0.004644</td>\n",
              "    </tr>\n",
              "    <tr>\n",
              "      <th>Steve Dunn</th>\n",
              "      <td>2</td>\n",
              "      <td>0.003096</td>\n",
              "    </tr>\n",
              "    <tr>\n",
              "      <th>Steve Lodge</th>\n",
              "      <td>1</td>\n",
              "      <td>0.001548</td>\n",
              "    </tr>\n",
              "    <tr>\n",
              "      <th>U Rennie</th>\n",
              "      <td>14</td>\n",
              "      <td>0.021672</td>\n",
              "    </tr>\n",
              "    <tr>\n",
              "      <th>�D Gallagher</th>\n",
              "      <td>1</td>\n",
              "      <td>0.001548</td>\n",
              "    </tr>\n",
              "  </tbody>\n",
              "</table>\n",
              "</div>"
            ],
            "text/plain": [
              "                  counts     freqs\n",
              "categories                        \n",
              "A D'Urso               5  0.007740\n",
              "A Marriner            38  0.058824\n",
              "A Taylor              29  0.044892\n",
              "A Wiley               31  0.047988\n",
              "Alan Wiley             2  0.003096\n",
              "Andy D'Urso            1  0.001548\n",
              "B Knight               5  0.007740\n",
              "Barry Knight           2  0.003096\n",
              "C Kavanagh             1  0.001548\n",
              "C Pawson              15  0.023220\n",
              "C Wilkes               1  0.001548\n",
              "D Elleray              1  0.001548\n",
              "D Gallagher            7  0.010836\n",
              "David Ellaray          2  0.003096\n",
              "Dermot Gallagher       4  0.006192\n",
              "E Wolstenholme         1  0.001548\n",
              "G Barber               4  0.006192\n",
              "G Poll                17  0.026316\n",
              "G Scott                2  0.003096\n",
              "Graham Barber          4  0.006192\n",
              "Graham Poll            2  0.003096\n",
              "H Webb                35  0.054180\n",
              "J Moss                14  0.021672\n",
              "J Winter               5  0.007740\n",
              "Jeff Winter            3  0.004644\n",
              "K Friend              21  0.032508\n",
              "L Mason               26  0.040248\n",
              "L Probert             13  0.020124\n",
              "M Atkinson            44  0.068111\n",
              "M Clattenburg         25  0.038700\n",
              "M Dean                 2  0.003096\n",
              "M Halsey              30  0.046440\n",
              "M Jones               12  0.018576\n",
              "M Messias              1  0.001548\n",
              "M Oliver              26  0.040248\n",
              "M Riley               23  0.035604\n",
              "Mark Halsey            2  0.003096\n",
              "Mike Riley             3  0.004644\n",
              "N Barry                6  0.009288\n",
              "N Swarbrick           14  0.021672\n",
              "Neale Barry            2  0.003096\n",
              "P Dowd                41  0.063467\n",
              "P Durkin               6  0.009288\n",
              "P Tierney              1  0.001548\n",
              "P Walton              20  0.030960\n",
              "Paul Durkin            3  0.004644\n",
              "Peter Jones            1  0.001548\n",
              "R East                 7  0.010836\n",
              "R Madley               8  0.012384\n",
              "R Styles              19  0.029412\n",
              "Rob Styles             1  0.001548\n",
              "S Attwell              4  0.006192\n",
              "S Bennett             25  0.038700\n",
              "S Dunn                 6  0.009288\n",
              "S Tanner               2  0.003096\n",
              "Steve Bennett          3  0.004644\n",
              "Steve Dunn             2  0.003096\n",
              "Steve Lodge            1  0.001548\n",
              "U Rennie              14  0.021672\n",
              "�D Gallagher           1  0.001548"
            ]
          },
          "metadata": {
            "tags": []
          },
          "execution_count": 118
        }
      ]
    },
    {
      "cell_type": "code",
      "metadata": {
        "colab": {
          "base_uri": "https://localhost:8080/",
          "height": 404
        },
        "id": "ACbsBGYQtpfz",
        "outputId": "8000f669-392f-48bd-f28a-077142d2904c"
      },
      "source": [
        "#creates a histogram of the total number of lfc goals \r\n",
        "liv.hist(column = 'TNOG',\r\n",
        "               figsize = (9,6),\r\n",
        "               bins = 20)\r\n",
        "plt.ylabel('Number of Liverpool matches') # y-axis\r\n",
        "plt.xlabel('Total Number of Goals') # x-axis\r\n",
        "plt.title('Distribution of number of goals scored between liverpool fc and other EPL teams')\r\n",
        "plt.show()"
      ],
      "execution_count": null,
      "outputs": [
        {
          "output_type": "display_data",
          "data": {
            "image/png": "[encoded data removed]",
            "text/plain": [
              "<Figure size 648x432 with 1 Axes>"
            ]
          },
          "metadata": {
            "tags": [],
            "needs_background": "light"
          }
        }
      ]
    },
    {
      "cell_type": "code",
      "metadata": {
        "colab": {
          "base_uri": "https://localhost:8080/",
          "height": 404
        },
        "id": "4Y7keW53tpdA",
        "outputId": "36701caa-df12-426f-8494-b0a51a0d6e49"
      },
      "source": [
        "liv_away= liv[liv['AwayTeam'].str.contains('Liverpool')]\r\n",
        "liv_away.hist(column = 'FTAG',\r\n",
        "               figsize = (9,6),\r\n",
        "               bins = 5)\r\n",
        "plt.ylabel('Number of away matches') # y-axis\r\n",
        "plt.xlabel('Liverpool goals') # x-axis\r\n",
        "plt.title('Number of liverpool fc goals scored at away venues')\r\n",
        "plt.show()"
      ],
      "execution_count": null,
      "outputs": [
        {
          "output_type": "display_data",
          "data": {
            "image/png": "[encoded data removed]",
            "text/plain": [
              "<Figure size 648x432 with 1 Axes>"
            ]
          },
          "metadata": {
            "tags": [],
            "needs_background": "light"
          }
        }
      ]
    },
    {
      "cell_type": "code",
      "metadata": {
        "colab": {
          "base_uri": "https://localhost:8080/",
          "height": 404
        },
        "id": "68CqsN_UtpbA",
        "outputId": "3711b89b-d767-46cf-d1a6-61e650ffc7d3"
      },
      "source": [
        "liv_home= liv[liv['HomeTeam'].str.contains('Liverpool')]\r\n",
        "liv_home.hist(column = 'FTHG',\r\n",
        "               figsize = (9,6),\r\n",
        "               bins = 5)\r\n",
        "\r\n",
        "plt.ylabel('Number of home matches') # y-axis\r\n",
        "plt.xlabel('Liverpool goals') # x-axis\r\n",
        "plt.title('Number of lfc goals scored as the home team')\r\n",
        "plt.show()"
      ],
      "execution_count": null,
      "outputs": [
        {
          "output_type": "display_data",
          "data": {
            "image/png": "[encoded data removed]",
            "text/plain": [
              "<Figure size 648x432 with 1 Axes>"
            ]
          },
          "metadata": {
            "tags": [],
            "needs_background": "light"
          }
        }
      ]
    },
    {
      "cell_type": "code",
      "metadata": {
        "colab": {
          "base_uri": "https://localhost:8080/",
          "height": 264
        },
        "id": "RC3E-yIZtpYD",
        "outputId": "bbba013d-4fa7-4bab-e4c9-b3d1570a40d0"
      },
      "source": [
        "#EPL matches won by liverpool\r\n",
        "liv_win = liv.loc[((liv['FTR']=='H') & (liv['HomeTeam']== 'Liverpool') |(liv['FTR']=='A') &(liv['AwayTeam']=='Liverpool'))].count()[0]\r\n",
        "#EPL matches lost by liverpool\r\n",
        "liv_lose = liv.loc[((liv['FTR']=='H') & (liv['AwayTeam']== 'Liverpool') |(liv['FTR']=='A') &(liv['HomeTeam']=='Liverpool'))].count()[0]\r\n",
        "#EPL matches drawn between liverpool and other teams\r\n",
        "liv_draw = liv.loc[((liv['FTR']=='D') & (liv['AwayTeam']== 'Liverpool') |(liv['FTR']=='D') &(liv['HomeTeam']=='Liverpool'))].count()[0]\r\n",
        "\r\n",
        "labels = ['liverpool win','liverpool lose','liverpool draw']\r\n",
        "explode = (0,0,.1)\r\n",
        "#craetes the pie chart\r\n",
        "plt.pie([liv_win,liv_lose,liv_draw],labels=labels, autopct='%.2f %%', explode = explode)\r\n",
        "plt.title('Outcome of Liverpool FC EPL matches between 2000-2018')\r\n",
        "plt.show()"
      ],
      "execution_count": null,
      "outputs": [
        {
          "output_type": "display_data",
          "data": {
            "image/png": "[encoded data removed]",
            "text/plain": [
              "<Figure size 432x288 with 1 Axes>"
            ]
          },
          "metadata": {
            "tags": []
          }
        }
      ]
    },
    {
      "cell_type": "markdown",
      "metadata": {
        "id": "rAm6TGfNvdVb"
      },
      "source": [
        "From the pie chart, it can be deduced that liverpool won a little more than half of thier EPLl matches (51.08%) over the span of 18 years"
      ]
    },
    {
      "cell_type": "code",
      "metadata": {
        "colab": {
          "base_uri": "https://localhost:8080/",
          "height": 695
        },
        "id": "k3h1tOfWtpWE",
        "outputId": "80e3fbf4-15e9-49d5-c65c-3b1c0830da70"
      },
      "source": [
        "liv_away_results = liv_away.groupby(['Season','FTR']).FTAG.sum()\r\n",
        "liv_away_results.unstack().plot(kind='bar',stacked=True, colormap= 'Set2',  \r\n",
        "                           grid=False,  figsize=(13,11))\r\n",
        "plt.title('Distribution of outcome of LFC away games to total goals scored per season')\r\n",
        "plt.ylabel('LFC away Goals')\r\n",
        "plt.show()"
      ],
      "execution_count": null,
      "outputs": [
        {
          "output_type": "display_data",
          "data": {
            "image/png": "[encoded data removed]",
            "text/plain": [
              "<Figure size 936x792 with 1 Axes>"
            ]
          },
          "metadata": {
            "tags": [],
            "needs_background": "light"
          }
        }
      ]
    },
    {
      "cell_type": "markdown",
      "metadata": {
        "id": "H-ZJM_msvhy8"
      },
      "source": [
        "from the above, it can be seen that liverpool fc most productive season in front of goal at away grounds was in 13-14 season where they also won thier most away games. LFC lost 11 away games in 10-11 season which accounted for their most away games lost in a season. The data below represents the away games lost in 10-11 season"
      ]
    },
    {
      "cell_type": "code",
      "metadata": {
        "id": "-9pP2rE_hQc4",
        "colab": {
          "base_uri": "https://localhost:8080/",
          "height": 394
        },
        "outputId": "9e01be73-bc2a-4d6a-f454-5b127dee83c1"
      },
      "source": [
        "liv_most_away_Gloss= liv.loc[((liv['FTR']== 'H') & (liv['AwayTeam']=='Liverpool') & (liv['Season']=='10-11'))]\r\n",
        "liv_most_away_Gloss"
      ],
      "execution_count": null,
      "outputs": [
        {
          "output_type": "execute_result",
          "data": {
            "text/html": [
              "<div>\n",
              "<style scoped>\n",
              "    .dataframe tbody tr th:only-of-type {\n",
              "        vertical-align: middle;\n",
              "    }\n",
              "\n",
              "    .dataframe tbody tr th {\n",
              "        vertical-align: top;\n",
              "    }\n",
              "\n",
              "    .dataframe thead th {\n",
              "        text-align: right;\n",
              "    }\n",
              "</style>\n",
              "<table border=\"1\" class=\"dataframe\">\n",
              "  <thead>\n",
              "    <tr style=\"text-align: right;\">\n",
              "      <th></th>\n",
              "      <th>Date</th>\n",
              "      <th>HomeTeam</th>\n",
              "      <th>AwayTeam</th>\n",
              "      <th>FTHG</th>\n",
              "      <th>FTAG</th>\n",
              "      <th>FTR</th>\n",
              "      <th>HTHG</th>\n",
              "      <th>HTAG</th>\n",
              "      <th>HTR</th>\n",
              "      <th>Referee</th>\n",
              "      <th>HS</th>\n",
              "      <th>AS</th>\n",
              "      <th>HST</th>\n",
              "      <th>AST</th>\n",
              "      <th>HF</th>\n",
              "      <th>AF</th>\n",
              "      <th>HC</th>\n",
              "      <th>AC</th>\n",
              "      <th>HY</th>\n",
              "      <th>AY</th>\n",
              "      <th>HR</th>\n",
              "      <th>AR</th>\n",
              "      <th>Season</th>\n",
              "      <th>TNOG</th>\n",
              "      <th>SF</th>\n",
              "    </tr>\n",
              "  </thead>\n",
              "  <tbody>\n",
              "    <tr>\n",
              "      <th>3439</th>\n",
              "      <td>23/08/10</td>\n",
              "      <td>Man City</td>\n",
              "      <td>Liverpool</td>\n",
              "      <td>3.0</td>\n",
              "      <td>0.0</td>\n",
              "      <td>H</td>\n",
              "      <td>1.0</td>\n",
              "      <td>0.0</td>\n",
              "      <td>H</td>\n",
              "      <td>P Dowd</td>\n",
              "      <td>8.0</td>\n",
              "      <td>13.0</td>\n",
              "      <td>3.0</td>\n",
              "      <td>7.0</td>\n",
              "      <td>13.0</td>\n",
              "      <td>12.0</td>\n",
              "      <td>5.0</td>\n",
              "      <td>4.0</td>\n",
              "      <td>1.0</td>\n",
              "      <td>1.0</td>\n",
              "      <td>0.0</td>\n",
              "      <td>0.0</td>\n",
              "      <td>10-11</td>\n",
              "      <td>3.0</td>\n",
              "      <td>mid</td>\n",
              "    </tr>\n",
              "    <tr>\n",
              "      <th>3468</th>\n",
              "      <td>19/09/10</td>\n",
              "      <td>Man United</td>\n",
              "      <td>Liverpool</td>\n",
              "      <td>3.0</td>\n",
              "      <td>2.0</td>\n",
              "      <td>H</td>\n",
              "      <td>1.0</td>\n",
              "      <td>0.0</td>\n",
              "      <td>H</td>\n",
              "      <td>H Webb</td>\n",
              "      <td>16.0</td>\n",
              "      <td>7.0</td>\n",
              "      <td>7.0</td>\n",
              "      <td>1.0</td>\n",
              "      <td>15.0</td>\n",
              "      <td>10.0</td>\n",
              "      <td>6.0</td>\n",
              "      <td>1.0</td>\n",
              "      <td>4.0</td>\n",
              "      <td>1.0</td>\n",
              "      <td>0.0</td>\n",
              "      <td>0.0</td>\n",
              "      <td>10-11</td>\n",
              "      <td>5.0</td>\n",
              "      <td>mid</td>\n",
              "    </tr>\n",
              "    <tr>\n",
              "      <th>3498</th>\n",
              "      <td>17/10/10</td>\n",
              "      <td>Everton</td>\n",
              "      <td>Liverpool</td>\n",
              "      <td>2.0</td>\n",
              "      <td>0.0</td>\n",
              "      <td>H</td>\n",
              "      <td>1.0</td>\n",
              "      <td>0.0</td>\n",
              "      <td>H</td>\n",
              "      <td>H Webb</td>\n",
              "      <td>9.0</td>\n",
              "      <td>15.0</td>\n",
              "      <td>6.0</td>\n",
              "      <td>9.0</td>\n",
              "      <td>10.0</td>\n",
              "      <td>9.0</td>\n",
              "      <td>8.0</td>\n",
              "      <td>7.0</td>\n",
              "      <td>2.0</td>\n",
              "      <td>2.0</td>\n",
              "      <td>0.0</td>\n",
              "      <td>0.0</td>\n",
              "      <td>10-11</td>\n",
              "      <td>2.0</td>\n",
              "      <td>low</td>\n",
              "    </tr>\n",
              "    <tr>\n",
              "      <th>3543</th>\n",
              "      <td>13/11/10</td>\n",
              "      <td>Stoke</td>\n",
              "      <td>Liverpool</td>\n",
              "      <td>2.0</td>\n",
              "      <td>0.0</td>\n",
              "      <td>H</td>\n",
              "      <td>0.0</td>\n",
              "      <td>0.0</td>\n",
              "      <td>D</td>\n",
              "      <td>M Halsey</td>\n",
              "      <td>14.0</td>\n",
              "      <td>10.0</td>\n",
              "      <td>7.0</td>\n",
              "      <td>6.0</td>\n",
              "      <td>14.0</td>\n",
              "      <td>10.0</td>\n",
              "      <td>4.0</td>\n",
              "      <td>3.0</td>\n",
              "      <td>2.0</td>\n",
              "      <td>3.0</td>\n",
              "      <td>0.0</td>\n",
              "      <td>1.0</td>\n",
              "      <td>10-11</td>\n",
              "      <td>2.0</td>\n",
              "      <td>low</td>\n",
              "    </tr>\n",
              "    <tr>\n",
              "      <th>3569</th>\n",
              "      <td>28/11/10</td>\n",
              "      <td>Tottenham</td>\n",
              "      <td>Liverpool</td>\n",
              "      <td>2.0</td>\n",
              "      <td>1.0</td>\n",
              "      <td>H</td>\n",
              "      <td>0.0</td>\n",
              "      <td>1.0</td>\n",
              "      <td>A</td>\n",
              "      <td>M Atkinson</td>\n",
              "      <td>20.0</td>\n",
              "      <td>12.0</td>\n",
              "      <td>13.0</td>\n",
              "      <td>8.0</td>\n",
              "      <td>6.0</td>\n",
              "      <td>16.0</td>\n",
              "      <td>5.0</td>\n",
              "      <td>8.0</td>\n",
              "      <td>0.0</td>\n",
              "      <td>5.0</td>\n",
              "      <td>0.0</td>\n",
              "      <td>0.0</td>\n",
              "      <td>10-11</td>\n",
              "      <td>3.0</td>\n",
              "      <td>mid</td>\n",
              "    </tr>\n",
              "    <tr>\n",
              "      <th>3582</th>\n",
              "      <td>11/12/10</td>\n",
              "      <td>Newcastle</td>\n",
              "      <td>Liverpool</td>\n",
              "      <td>3.0</td>\n",
              "      <td>1.0</td>\n",
              "      <td>H</td>\n",
              "      <td>1.0</td>\n",
              "      <td>0.0</td>\n",
              "      <td>H</td>\n",
              "      <td>L Mason</td>\n",
              "      <td>8.0</td>\n",
              "      <td>16.0</td>\n",
              "      <td>5.0</td>\n",
              "      <td>7.0</td>\n",
              "      <td>19.0</td>\n",
              "      <td>13.0</td>\n",
              "      <td>2.0</td>\n",
              "      <td>5.0</td>\n",
              "      <td>2.0</td>\n",
              "      <td>1.0</td>\n",
              "      <td>0.0</td>\n",
              "      <td>0.0</td>\n",
              "      <td>10-11</td>\n",
              "      <td>4.0</td>\n",
              "      <td>mid</td>\n",
              "    </tr>\n",
              "    <tr>\n",
              "      <th>3625</th>\n",
              "      <td>05/01/11</td>\n",
              "      <td>Blackburn</td>\n",
              "      <td>Liverpool</td>\n",
              "      <td>3.0</td>\n",
              "      <td>1.0</td>\n",
              "      <td>H</td>\n",
              "      <td>2.0</td>\n",
              "      <td>0.0</td>\n",
              "      <td>H</td>\n",
              "      <td>A Marriner</td>\n",
              "      <td>10.0</td>\n",
              "      <td>13.0</td>\n",
              "      <td>4.0</td>\n",
              "      <td>9.0</td>\n",
              "      <td>14.0</td>\n",
              "      <td>13.0</td>\n",
              "      <td>0.0</td>\n",
              "      <td>7.0</td>\n",
              "      <td>1.0</td>\n",
              "      <td>1.0</td>\n",
              "      <td>0.0</td>\n",
              "      <td>0.0</td>\n",
              "      <td>10-11</td>\n",
              "      <td>4.0</td>\n",
              "      <td>mid</td>\n",
              "    </tr>\n",
              "    <tr>\n",
              "      <th>3630</th>\n",
              "      <td>12/01/11</td>\n",
              "      <td>Blackpool</td>\n",
              "      <td>Liverpool</td>\n",
              "      <td>2.0</td>\n",
              "      <td>1.0</td>\n",
              "      <td>H</td>\n",
              "      <td>1.0</td>\n",
              "      <td>1.0</td>\n",
              "      <td>D</td>\n",
              "      <td>M Oliver</td>\n",
              "      <td>13.0</td>\n",
              "      <td>10.0</td>\n",
              "      <td>9.0</td>\n",
              "      <td>6.0</td>\n",
              "      <td>6.0</td>\n",
              "      <td>13.0</td>\n",
              "      <td>3.0</td>\n",
              "      <td>3.0</td>\n",
              "      <td>1.0</td>\n",
              "      <td>3.0</td>\n",
              "      <td>0.0</td>\n",
              "      <td>0.0</td>\n",
              "      <td>10-11</td>\n",
              "      <td>3.0</td>\n",
              "      <td>mid</td>\n",
              "    </tr>\n",
              "    <tr>\n",
              "      <th>3694</th>\n",
              "      <td>27/02/11</td>\n",
              "      <td>West Ham</td>\n",
              "      <td>Liverpool</td>\n",
              "      <td>3.0</td>\n",
              "      <td>1.0</td>\n",
              "      <td>H</td>\n",
              "      <td>2.0</td>\n",
              "      <td>0.0</td>\n",
              "      <td>H</td>\n",
              "      <td>M Halsey</td>\n",
              "      <td>17.0</td>\n",
              "      <td>12.0</td>\n",
              "      <td>11.0</td>\n",
              "      <td>8.0</td>\n",
              "      <td>10.0</td>\n",
              "      <td>8.0</td>\n",
              "      <td>6.0</td>\n",
              "      <td>8.0</td>\n",
              "      <td>0.0</td>\n",
              "      <td>1.0</td>\n",
              "      <td>0.0</td>\n",
              "      <td>0.0</td>\n",
              "      <td>10-11</td>\n",
              "      <td>4.0</td>\n",
              "      <td>mid</td>\n",
              "    </tr>\n",
              "    <tr>\n",
              "      <th>3723</th>\n",
              "      <td>02/04/11</td>\n",
              "      <td>West Brom</td>\n",
              "      <td>Liverpool</td>\n",
              "      <td>2.0</td>\n",
              "      <td>1.0</td>\n",
              "      <td>H</td>\n",
              "      <td>0.0</td>\n",
              "      <td>0.0</td>\n",
              "      <td>D</td>\n",
              "      <td>M Atkinson</td>\n",
              "      <td>17.0</td>\n",
              "      <td>13.0</td>\n",
              "      <td>14.0</td>\n",
              "      <td>9.0</td>\n",
              "      <td>10.0</td>\n",
              "      <td>15.0</td>\n",
              "      <td>0.0</td>\n",
              "      <td>5.0</td>\n",
              "      <td>2.0</td>\n",
              "      <td>3.0</td>\n",
              "      <td>0.0</td>\n",
              "      <td>0.0</td>\n",
              "      <td>10-11</td>\n",
              "      <td>3.0</td>\n",
              "      <td>mid</td>\n",
              "    </tr>\n",
              "    <tr>\n",
              "      <th>3790</th>\n",
              "      <td>22/05/11</td>\n",
              "      <td>Aston Villa</td>\n",
              "      <td>Liverpool</td>\n",
              "      <td>1.0</td>\n",
              "      <td>0.0</td>\n",
              "      <td>H</td>\n",
              "      <td>1.0</td>\n",
              "      <td>0.0</td>\n",
              "      <td>H</td>\n",
              "      <td>L Probert</td>\n",
              "      <td>10.0</td>\n",
              "      <td>9.0</td>\n",
              "      <td>8.0</td>\n",
              "      <td>4.0</td>\n",
              "      <td>12.0</td>\n",
              "      <td>12.0</td>\n",
              "      <td>4.0</td>\n",
              "      <td>5.0</td>\n",
              "      <td>2.0</td>\n",
              "      <td>2.0</td>\n",
              "      <td>0.0</td>\n",
              "      <td>0.0</td>\n",
              "      <td>10-11</td>\n",
              "      <td>1.0</td>\n",
              "      <td>low</td>\n",
              "    </tr>\n",
              "  </tbody>\n",
              "</table>\n",
              "</div>"
            ],
            "text/plain": [
              "          Date     HomeTeam   AwayTeam  FTHG  FTAG  ...   HR   AR  Season TNOG   SF\n",
              "3439  23/08/10     Man City  Liverpool   3.0   0.0  ...  0.0  0.0   10-11  3.0  mid\n",
              "3468  19/09/10   Man United  Liverpool   3.0   2.0  ...  0.0  0.0   10-11  5.0  mid\n",
              "3498  17/10/10      Everton  Liverpool   2.0   0.0  ...  0.0  0.0   10-11  2.0  low\n",
              "3543  13/11/10        Stoke  Liverpool   2.0   0.0  ...  0.0  1.0   10-11  2.0  low\n",
              "3569  28/11/10    Tottenham  Liverpool   2.0   1.0  ...  0.0  0.0   10-11  3.0  mid\n",
              "3582  11/12/10    Newcastle  Liverpool   3.0   1.0  ...  0.0  0.0   10-11  4.0  mid\n",
              "3625  05/01/11    Blackburn  Liverpool   3.0   1.0  ...  0.0  0.0   10-11  4.0  mid\n",
              "3630  12/01/11    Blackpool  Liverpool   2.0   1.0  ...  0.0  0.0   10-11  3.0  mid\n",
              "3694  27/02/11     West Ham  Liverpool   3.0   1.0  ...  0.0  0.0   10-11  4.0  mid\n",
              "3723  02/04/11    West Brom  Liverpool   2.0   1.0  ...  0.0  0.0   10-11  3.0  mid\n",
              "3790  22/05/11  Aston Villa  Liverpool   1.0   0.0  ...  0.0  0.0   10-11  1.0  low\n",
              "\n",
              "[11 rows x 25 columns]"
            ]
          },
          "metadata": {
            "tags": []
          },
          "execution_count": 124
        }
      ]
    },
    {
      "cell_type": "code",
      "metadata": {
        "colab": {
          "base_uri": "https://localhost:8080/",
          "height": 695
        },
        "id": "CytiUP2svYl7",
        "outputId": "e6a74c30-1359-45be-db42-7864cee09def"
      },
      "source": [
        "liv_home_results= liv_home.groupby(['Season','FTR']).FTHG.sum()\r\n",
        "liv_home_results.unstack().plot(kind='bar',stacked=True, colormap= 'Set2',  \r\n",
        "                           grid=False,  figsize=(13,11))\r\n",
        "plt.title('Distribution of outcome of LFC away games to total goals scored per season')\r\n",
        "plt.ylabel('LFC home Goals')\r\n",
        "plt.show()"
      ],
      "execution_count": null,
      "outputs": [
        {
          "output_type": "display_data",
          "data": {
            "image/png": "[encoded data removed]",
            "text/plain": [
              "<Figure size 936x792 with 1 Axes>"
            ]
          },
          "metadata": {
            "tags": [],
            "needs_background": "light"
          }
        }
      ]
    },
    {
      "cell_type": "markdown",
      "metadata": {
        "id": "u1hkVry9vrXT"
      },
      "source": [
        "Similarly from the above, it can be seen that LFC scored thier most home goals and won their most home games in the 13-14 season. they recorded their highest number of home matches lost in 03-04 and drew most home matches in the 15-16 season"
      ]
    },
    {
      "cell_type": "code",
      "metadata": {
        "colab": {
          "base_uri": "https://localhost:8080/",
          "height": 695
        },
        "id": "dM2x7gWHvYjn",
        "outputId": "73f10bc4-c6cd-41b7-f7f6-84ba00018512"
      },
      "source": [
        "liv_home_yellow= liv_home.groupby(['Season','HY']).HF.sum()\r\n",
        "liv_home_yellow.unstack().plot(kind='bar',stacked=True, colormap= 'RdBu',  \r\n",
        "                           grid=False,  figsize=(13,11))\r\n",
        "plt.title('Distribution of lfc fouls committed to yellow cards per season at home matches')\r\n",
        "plt.ylabel('lfc fouls committed at home matches')\r\n",
        "plt.show()"
      ],
      "execution_count": null,
      "outputs": [
        {
          "output_type": "display_data",
          "data": {
            "image/png": "[encoded data removed]",
            "text/plain": [
              "<Figure size 936x792 with 1 Axes>"
            ]
          },
          "metadata": {
            "tags": [],
            "needs_background": "light"
          }
        }
      ]
    },
    {
      "cell_type": "code",
      "metadata": {
        "colab": {
          "base_uri": "https://localhost:8080/",
          "height": 81
        },
        "id": "tWiYIJHGvYgP",
        "outputId": "4ac44160-6ff9-44c3-dee9-a44c50b4007f"
      },
      "source": [
        "liv_most_home_yellow= liv.loc[((liv['HY']== 5) & (liv['HomeTeam']=='Liverpool'))]\r\n",
        "liv_most_home_yellow"
      ],
      "execution_count": null,
      "outputs": [
        {
          "output_type": "execute_result",
          "data": {
            "text/html": [
              "<div>\n",
              "<style scoped>\n",
              "    .dataframe tbody tr th:only-of-type {\n",
              "        vertical-align: middle;\n",
              "    }\n",
              "\n",
              "    .dataframe tbody tr th {\n",
              "        vertical-align: top;\n",
              "    }\n",
              "\n",
              "    .dataframe thead th {\n",
              "        text-align: right;\n",
              "    }\n",
              "</style>\n",
              "<table border=\"1\" class=\"dataframe\">\n",
              "  <thead>\n",
              "    <tr style=\"text-align: right;\">\n",
              "      <th></th>\n",
              "      <th>Date</th>\n",
              "      <th>HomeTeam</th>\n",
              "      <th>AwayTeam</th>\n",
              "      <th>FTHG</th>\n",
              "      <th>FTAG</th>\n",
              "      <th>FTR</th>\n",
              "      <th>HTHG</th>\n",
              "      <th>HTAG</th>\n",
              "      <th>HTR</th>\n",
              "      <th>Referee</th>\n",
              "      <th>HS</th>\n",
              "      <th>AS</th>\n",
              "      <th>HST</th>\n",
              "      <th>AST</th>\n",
              "      <th>HF</th>\n",
              "      <th>AF</th>\n",
              "      <th>HC</th>\n",
              "      <th>AC</th>\n",
              "      <th>HY</th>\n",
              "      <th>AY</th>\n",
              "      <th>HR</th>\n",
              "      <th>AR</th>\n",
              "      <th>Season</th>\n",
              "      <th>TNOG</th>\n",
              "      <th>SF</th>\n",
              "    </tr>\n",
              "  </thead>\n",
              "  <tbody>\n",
              "    <tr>\n",
              "      <th>4514</th>\n",
              "      <td>21/04/13</td>\n",
              "      <td>Liverpool</td>\n",
              "      <td>Chelsea</td>\n",
              "      <td>2.0</td>\n",
              "      <td>2.0</td>\n",
              "      <td>D</td>\n",
              "      <td>0.0</td>\n",
              "      <td>1.0</td>\n",
              "      <td>A</td>\n",
              "      <td>K Friend</td>\n",
              "      <td>23.0</td>\n",
              "      <td>9.0</td>\n",
              "      <td>12.0</td>\n",
              "      <td>6.0</td>\n",
              "      <td>8.0</td>\n",
              "      <td>11.0</td>\n",
              "      <td>8.0</td>\n",
              "      <td>5.0</td>\n",
              "      <td>5.0</td>\n",
              "      <td>2.0</td>\n",
              "      <td>0.0</td>\n",
              "      <td>0.0</td>\n",
              "      <td>12-13</td>\n",
              "      <td>4.0</td>\n",
              "      <td>mid</td>\n",
              "    </tr>\n",
              "  </tbody>\n",
              "</table>\n",
              "</div>"
            ],
            "text/plain": [
              "          Date   HomeTeam AwayTeam  FTHG  FTAG  ...   HR   AR  Season TNOG   SF\n",
              "4514  21/04/13  Liverpool  Chelsea   2.0   2.0  ...  0.0  0.0   12-13  4.0  mid\n",
              "\n",
              "[1 rows x 25 columns]"
            ]
          },
          "metadata": {
            "tags": []
          },
          "execution_count": 127
        }
      ]
    },
    {
      "cell_type": "markdown",
      "metadata": {
        "id": "IOp8-sGHvxko"
      },
      "source": [
        "we can see based on the graph that fouls committed by LFC has been on the decline and only in 12-13 season did they collect 5 yellow cards which happened in a game against chelsea"
      ]
    },
    {
      "cell_type": "code",
      "metadata": {
        "colab": {
          "base_uri": "https://localhost:8080/",
          "height": 695
        },
        "id": "Zt7r3hRsvYdu",
        "outputId": "bfac459c-e8a9-4a2d-a7c5-6a05c4be4ed4"
      },
      "source": [
        "liv_away_yellow = liv_away.groupby(['Season','AY']).AF.sum()\r\n",
        "liv_away_yellow.unstack().plot(kind='bar',stacked=True, colormap= 'RdBu',  \r\n",
        "                           grid=False,  figsize=(13,11))\r\n",
        "plt.title('Distribution of lfc fouls committed to yellow cards per season at away matches')\r\n",
        "plt.ylabel('lfc fouls committed at away matches')\r\n",
        "plt.show()"
      ],
      "execution_count": null,
      "outputs": [
        {
          "output_type": "display_data",
          "data": {
            "image/png": "[encoded data removed]",
            "text/plain": [
              "<Figure size 936x792 with 1 Axes>"
            ]
          },
          "metadata": {
            "tags": [],
            "needs_background": "light"
          }
        }
      ]
    },
    {
      "cell_type": "markdown",
      "metadata": {
        "id": "x54uv_NSv7bM"
      },
      "source": [
        "Similarly by comparing the 'Distribution of lfc fouls committed to yellow cards per season at away matches and Distribution of lfc fouls committed to yellow cards per season at home matches graphs, we can deduce that LFC commit more fouls and recieve more warnings (yellow cards) away than at home games. LFC were handed their most yellow cards in an away game against Man City in the 09-10 season"
      ]
    },
    {
      "cell_type": "code",
      "metadata": {
        "colab": {
          "base_uri": "https://localhost:8080/",
          "height": 81
        },
        "id": "87xE9AlpvYav",
        "outputId": "f388ca29-5b49-4c76-fb0e-b755d6ed120c"
      },
      "source": [
        "liv_most_away_yellow= liv.loc[((liv['AY']== 6) & (liv['AwayTeam']=='Liverpool'))]\r\n",
        "liv_most_away_yellow"
      ],
      "execution_count": null,
      "outputs": [
        {
          "output_type": "execute_result",
          "data": {
            "text/html": [
              "<div>\n",
              "<style scoped>\n",
              "    .dataframe tbody tr th:only-of-type {\n",
              "        vertical-align: middle;\n",
              "    }\n",
              "\n",
              "    .dataframe tbody tr th {\n",
              "        vertical-align: top;\n",
              "    }\n",
              "\n",
              "    .dataframe thead th {\n",
              "        text-align: right;\n",
              "    }\n",
              "</style>\n",
              "<table border=\"1\" class=\"dataframe\">\n",
              "  <thead>\n",
              "    <tr style=\"text-align: right;\">\n",
              "      <th></th>\n",
              "      <th>Date</th>\n",
              "      <th>HomeTeam</th>\n",
              "      <th>AwayTeam</th>\n",
              "      <th>FTHG</th>\n",
              "      <th>FTAG</th>\n",
              "      <th>FTR</th>\n",
              "      <th>HTHG</th>\n",
              "      <th>HTAG</th>\n",
              "      <th>HTR</th>\n",
              "      <th>Referee</th>\n",
              "      <th>HS</th>\n",
              "      <th>AS</th>\n",
              "      <th>HST</th>\n",
              "      <th>AST</th>\n",
              "      <th>HF</th>\n",
              "      <th>AF</th>\n",
              "      <th>HC</th>\n",
              "      <th>AC</th>\n",
              "      <th>HY</th>\n",
              "      <th>AY</th>\n",
              "      <th>HR</th>\n",
              "      <th>AR</th>\n",
              "      <th>Season</th>\n",
              "      <th>TNOG</th>\n",
              "      <th>SF</th>\n",
              "    </tr>\n",
              "  </thead>\n",
              "  <tbody>\n",
              "    <tr>\n",
              "      <th>3302</th>\n",
              "      <td>21/02/10</td>\n",
              "      <td>Man City</td>\n",
              "      <td>Liverpool</td>\n",
              "      <td>0.0</td>\n",
              "      <td>0.0</td>\n",
              "      <td>D</td>\n",
              "      <td>0.0</td>\n",
              "      <td>0.0</td>\n",
              "      <td>D</td>\n",
              "      <td>P Walton</td>\n",
              "      <td>4.0</td>\n",
              "      <td>6.0</td>\n",
              "      <td>1.0</td>\n",
              "      <td>2.0</td>\n",
              "      <td>7.0</td>\n",
              "      <td>15.0</td>\n",
              "      <td>8.0</td>\n",
              "      <td>5.0</td>\n",
              "      <td>1.0</td>\n",
              "      <td>6.0</td>\n",
              "      <td>0.0</td>\n",
              "      <td>0.0</td>\n",
              "      <td>09-10</td>\n",
              "      <td>0.0</td>\n",
              "      <td>low</td>\n",
              "    </tr>\n",
              "  </tbody>\n",
              "</table>\n",
              "</div>"
            ],
            "text/plain": [
              "          Date  HomeTeam   AwayTeam  FTHG  FTAG  ...   HR   AR  Season TNOG   SF\n",
              "3302  21/02/10  Man City  Liverpool   0.0   0.0  ...  0.0  0.0   09-10  0.0  low\n",
              "\n",
              "[1 rows x 25 columns]"
            ]
          },
          "metadata": {
            "tags": []
          },
          "execution_count": 129
        }
      ]
    },
    {
      "cell_type": "code",
      "metadata": {
        "colab": {
          "base_uri": "https://localhost:8080/",
          "height": 695
        },
        "id": "JL59Kb_tvYXp",
        "outputId": "1f418a05-270f-4694-dff5-1a988777668d"
      },
      "source": [
        "liv_home_red = liv_home.groupby(['Season','HR']).HF.sum()\r\n",
        "liv_home_red.unstack().plot(kind='bar',stacked=True, colormap= 'RdBu',  \r\n",
        "                           grid=False,  figsize=(13,11))\r\n",
        "plt.title('Distribution of lfc fouls committed to red cards per season at home matches')\r\n",
        "plt.ylabel('lfc fouls committed at home matches')\r\n",
        "plt.show()"
      ],
      "execution_count": null,
      "outputs": [
        {
          "output_type": "display_data",
          "data": {
            "image/png": "[encoded data removed]",
            "text/plain": [
              "<Figure size 936x792 with 1 Axes>"
            ]
          },
          "metadata": {
            "tags": [],
            "needs_background": "light"
          }
        }
      ]
    },
    {
      "cell_type": "code",
      "metadata": {
        "colab": {
          "base_uri": "https://localhost:8080/",
          "height": 695
        },
        "id": "Ek0HZOdivYUf",
        "outputId": "366cbebe-616d-4c01-e407-a778c795b644"
      },
      "source": [
        "liv_away_red = liv_away.groupby(['Season','AR']).AF.sum()\r\n",
        "liv_away_red.unstack().plot(kind='bar',stacked=True, colormap= 'RdBu',  \r\n",
        "                           grid=False,  figsize=(13,11))\r\n",
        "plt.title('Distribution of lfc fouls committed to red cards per season at away matches')\r\n",
        "plt.ylabel('lfc fouls committed at away matches')\r\n",
        "plt.show()"
      ],
      "execution_count": null,
      "outputs": [
        {
          "output_type": "display_data",
          "data": {
            "image/png": "[encoded data removed]",
            "text/plain": [
              "<Figure size 936x792 with 1 Axes>"
            ]
          },
          "metadata": {
            "tags": [],
            "needs_background": "light"
          }
        }
      ]
    },
    {
      "cell_type": "markdown",
      "metadata": {
        "id": "zZwK8U9qwD1c"
      },
      "source": [
        "Likewise when we compare the Distribution of lfc fouls committed to red cards per season at away matches and the Distribution of lfc fouls committed to red cards per season at home matches graphs, it can be seen that LFC players get dismissed more (given red cards) from away games that at home games. Also in matches aginst Arsenal, Fulham and Tottenham (all clubs based in london), LFC have had more than 1 players awarded a red card."
      ]
    },
    {
      "cell_type": "code",
      "metadata": {
        "colab": {
          "base_uri": "https://localhost:8080/",
          "height": 143
        },
        "id": "8WTkU1hnvYRq",
        "outputId": "173e932f-5bc1-449e-b29b-96060e53594a"
      },
      "source": [
        "liv_most_red= liv.loc[((liv['AR']== 2) & (liv['AwayTeam']=='Liverpool'))]\r\n",
        "liv_most_red"
      ],
      "execution_count": null,
      "outputs": [
        {
          "output_type": "execute_result",
          "data": {
            "text/html": [
              "<div>\n",
              "<style scoped>\n",
              "    .dataframe tbody tr th:only-of-type {\n",
              "        vertical-align: middle;\n",
              "    }\n",
              "\n",
              "    .dataframe tbody tr th {\n",
              "        vertical-align: top;\n",
              "    }\n",
              "\n",
              "    .dataframe thead th {\n",
              "        text-align: right;\n",
              "    }\n",
              "</style>\n",
              "<table border=\"1\" class=\"dataframe\">\n",
              "  <thead>\n",
              "    <tr style=\"text-align: right;\">\n",
              "      <th></th>\n",
              "      <th>Date</th>\n",
              "      <th>HomeTeam</th>\n",
              "      <th>AwayTeam</th>\n",
              "      <th>FTHG</th>\n",
              "      <th>FTAG</th>\n",
              "      <th>FTR</th>\n",
              "      <th>HTHG</th>\n",
              "      <th>HTAG</th>\n",
              "      <th>HTR</th>\n",
              "      <th>Referee</th>\n",
              "      <th>HS</th>\n",
              "      <th>AS</th>\n",
              "      <th>HST</th>\n",
              "      <th>AST</th>\n",
              "      <th>HF</th>\n",
              "      <th>AF</th>\n",
              "      <th>HC</th>\n",
              "      <th>AC</th>\n",
              "      <th>HY</th>\n",
              "      <th>AY</th>\n",
              "      <th>HR</th>\n",
              "      <th>AR</th>\n",
              "      <th>Season</th>\n",
              "      <th>TNOG</th>\n",
              "      <th>SF</th>\n",
              "    </tr>\n",
              "  </thead>\n",
              "  <tbody>\n",
              "    <tr>\n",
              "      <th>10</th>\n",
              "      <td>21/08/00</td>\n",
              "      <td>Arsenal</td>\n",
              "      <td>Liverpool</td>\n",
              "      <td>2.0</td>\n",
              "      <td>0.0</td>\n",
              "      <td>H</td>\n",
              "      <td>1.0</td>\n",
              "      <td>0.0</td>\n",
              "      <td>H</td>\n",
              "      <td>Graham Poll</td>\n",
              "      <td>17.0</td>\n",
              "      <td>7.0</td>\n",
              "      <td>12.0</td>\n",
              "      <td>4.0</td>\n",
              "      <td>25.0</td>\n",
              "      <td>20.0</td>\n",
              "      <td>10.0</td>\n",
              "      <td>11.0</td>\n",
              "      <td>2.0</td>\n",
              "      <td>4.0</td>\n",
              "      <td>1.0</td>\n",
              "      <td>2.0</td>\n",
              "      <td>00-01</td>\n",
              "      <td>2.0</td>\n",
              "      <td>low</td>\n",
              "    </tr>\n",
              "    <tr>\n",
              "      <th>3140</th>\n",
              "      <td>31/10/09</td>\n",
              "      <td>Fulham</td>\n",
              "      <td>Liverpool</td>\n",
              "      <td>3.0</td>\n",
              "      <td>1.0</td>\n",
              "      <td>H</td>\n",
              "      <td>1.0</td>\n",
              "      <td>1.0</td>\n",
              "      <td>D</td>\n",
              "      <td>L Mason</td>\n",
              "      <td>10.0</td>\n",
              "      <td>6.0</td>\n",
              "      <td>6.0</td>\n",
              "      <td>3.0</td>\n",
              "      <td>10.0</td>\n",
              "      <td>13.0</td>\n",
              "      <td>2.0</td>\n",
              "      <td>2.0</td>\n",
              "      <td>1.0</td>\n",
              "      <td>0.0</td>\n",
              "      <td>0.0</td>\n",
              "      <td>2.0</td>\n",
              "      <td>09-10</td>\n",
              "      <td>4.0</td>\n",
              "      <td>mid</td>\n",
              "    </tr>\n",
              "    <tr>\n",
              "      <th>3848</th>\n",
              "      <td>18/09/11</td>\n",
              "      <td>Tottenham</td>\n",
              "      <td>Liverpool</td>\n",
              "      <td>4.0</td>\n",
              "      <td>0.0</td>\n",
              "      <td>H</td>\n",
              "      <td>1.0</td>\n",
              "      <td>0.0</td>\n",
              "      <td>H</td>\n",
              "      <td>M Jones</td>\n",
              "      <td>24.0</td>\n",
              "      <td>5.0</td>\n",
              "      <td>16.0</td>\n",
              "      <td>2.0</td>\n",
              "      <td>10.0</td>\n",
              "      <td>9.0</td>\n",
              "      <td>4.0</td>\n",
              "      <td>1.0</td>\n",
              "      <td>1.0</td>\n",
              "      <td>4.0</td>\n",
              "      <td>0.0</td>\n",
              "      <td>2.0</td>\n",
              "      <td>11-12</td>\n",
              "      <td>4.0</td>\n",
              "      <td>mid</td>\n",
              "    </tr>\n",
              "  </tbody>\n",
              "</table>\n",
              "</div>"
            ],
            "text/plain": [
              "          Date   HomeTeam   AwayTeam  FTHG  FTAG  ...   HR   AR  Season TNOG   SF\n",
              "10    21/08/00    Arsenal  Liverpool   2.0   0.0  ...  1.0  2.0   00-01  2.0  low\n",
              "3140  31/10/09     Fulham  Liverpool   3.0   1.0  ...  0.0  2.0   09-10  4.0  mid\n",
              "3848  18/09/11  Tottenham  Liverpool   4.0   0.0  ...  0.0  2.0   11-12  4.0  mid\n",
              "\n",
              "[3 rows x 25 columns]"
            ]
          },
          "metadata": {
            "tags": []
          },
          "execution_count": 132
        }
      ]
    },
    {
      "cell_type": "code",
      "metadata": {
        "colab": {
          "base_uri": "https://localhost:8080/",
          "height": 1000
        },
        "id": "JdXbtJnmvYOw",
        "outputId": "a19d7ff4-2e49-4e28-c4a5-091757ebcfeb"
      },
      "source": [
        "cor_liv = liv.corr()\r\n",
        "f, ax = plt.subplots(figsize =(20,20))\r\n",
        "sns.heatmap(cor_liv, annot = True)"
      ],
      "execution_count": null,
      "outputs": [
        {
          "output_type": "execute_result",
          "data": {
            "text/plain": [
              "<matplotlib.axes._subplots.AxesSubplot at 0x7eff61efad30>"
            ]
          },
          "metadata": {
            "tags": []
          },
          "execution_count": 133
        },
        {
          "output_type": "display_data",
          "data": {
            "image/png": "[encoded data removed]",
            "text/plain": [
              "<Figure size 1440x1440 with 2 Axes>"
            ]
          },
          "metadata": {
            "tags": [],
            "needs_background": "light"
          }
        }
      ]
    },
    {
      "cell_type": "markdown",
      "metadata": {
        "id": "1ICl7t6hCxvP"
      },
      "source": [
        "install the scikit-plot module which will be used fro plotting on google colab"
      ]
    },
    {
      "cell_type": "code",
      "metadata": {
        "colab": {
          "base_uri": "https://localhost:8080/"
        },
        "id": "YXWOFO7b4qJJ",
        "outputId": "1b978b90-059c-4b4a-81fb-d383ea45c6b8"
      },
      "source": [
        "pip install scikit-plot"
      ],
      "execution_count": null,
      "outputs": [
        {
          "output_type": "stream",
          "text": [
            "Requirement already satisfied: scikit-plot in /usr/local/lib/python3.6/dist-packages (0.3.7)\n",
            "Requirement already satisfied: matplotlib>=1.4.0 in /usr/local/lib/python3.6/dist-packages (from scikit-plot) (3.2.2)\n",
            "Requirement already satisfied: joblib>=0.10 in /usr/local/lib/python3.6/dist-packages (from scikit-plot) (1.0.0)\n",
            "Requirement already satisfied: scikit-learn>=0.18 in /usr/local/lib/python3.6/dist-packages (from scikit-plot) (0.22.2.post1)\n",
            "Requirement already satisfied: scipy>=0.9 in /usr/local/lib/python3.6/dist-packages (from scikit-plot) (1.4.1)\n",
            "Requirement already satisfied: pyparsing!=2.0.4,!=2.1.2,!=2.1.6,>=2.0.1 in /usr/local/lib/python3.6/dist-packages (from matplotlib>=1.4.0->scikit-plot) (2.4.7)\n",
            "Requirement already satisfied: cycler>=0.10 in /usr/local/lib/python3.6/dist-packages (from matplotlib>=1.4.0->scikit-plot) (0.10.0)\n",
            "Requirement already satisfied: numpy>=1.11 in /usr/local/lib/python3.6/dist-packages (from matplotlib>=1.4.0->scikit-plot) (1.19.4)\n",
            "Requirement already satisfied: python-dateutil>=2.1 in /usr/local/lib/python3.6/dist-packages (from matplotlib>=1.4.0->scikit-plot) (2.8.1)\n",
            "Requirement already satisfied: kiwisolver>=1.0.1 in /usr/local/lib/python3.6/dist-packages (from matplotlib>=1.4.0->scikit-plot) (1.3.1)\n",
            "Requirement already satisfied: six in /usr/local/lib/python3.6/dist-packages (from cycler>=0.10->matplotlib>=1.4.0->scikit-plot) (1.15.0)\n"
          ],
          "name": "stdout"
        }
      ]
    },
    {
      "cell_type": "code",
      "metadata": {
        "id": "JlbLSEm_Cl8i"
      },
      "source": [
        "import scikitplot as skplt"
      ],
      "execution_count": null,
      "outputs": []
    },
    {
      "cell_type": "markdown",
      "metadata": {
        "id": "B2uK0ldo1Zsa"
      },
      "source": [
        "# 1) Logistic Regression Algorithm"
      ]
    },
    {
      "cell_type": "markdown",
      "metadata": {
        "id": "TVMFKwFB1U8c"
      },
      "source": [
        "Logistic regression is classified under supervised learning. it is used to describe data and to explain the relationship that exist between one dependent variable and one or more nominal, ordinal, interval or ratio-level independent variables using the logistic function. this algorithm was chosen because it can be used to both categorize and classify dependent/target variables. The steps in developing a logisitic regression model are as follows"
      ]
    },
    {
      "cell_type": "markdown",
      "metadata": {
        "id": "OTdnSDkm1eby"
      },
      "source": [
        "## a) Full time Results Prediction"
      ]
    },
    {
      "cell_type": "markdown",
      "metadata": {
        "id": "kl7ZiBFI1eQB"
      },
      "source": [
        "Define the independent variables/features and the dependent variable. the full time results represents our dependent variable, while the full time away goals, full time home goals, away team red card and home team red card represent the predictor/independent variables"
      ]
    },
    {
      "cell_type": "code",
      "metadata": {
        "id": "KRcEQ06K1Yy8"
      },
      "source": [
        "#independent variables\r\n",
        "A = liv.loc[:,['HY','AY','HST','AST','AR','HR','HTAG','HTHG']]\r\n",
        "#target/dependent variable\r\n",
        "B = liv['FTR']"
      ],
      "execution_count": null,
      "outputs": []
    },
    {
      "cell_type": "markdown",
      "metadata": {
        "id": "vep4e1-31ldA"
      },
      "source": [
        "split the data set into sections for testing and training. Represent the model(full_time) by using the logistic regression function, then fit the model on the training data"
      ]
    },
    {
      "cell_type": "code",
      "metadata": {
        "colab": {
          "base_uri": "https://localhost:8080/"
        },
        "id": "2pGuT77JyM5O",
        "outputId": "71ddc2de-2772-4390-97f6-df654ef289f3"
      },
      "source": [
        "from sklearn.model_selection import train_test_split\r\n",
        "#split the training and tetsing data \r\n",
        "x_train,x_test,y_train,y_test = train_test_split(A,B)\r\n",
        "\r\n",
        "#training the logistic Regression model on the training data set\r\n",
        "from sklearn.linear_model import LogisticRegression\r\n",
        "full_time = LogisticRegression()\r\n",
        "#train the model\r\n",
        "full_time.fit(x_train,y_train)"
      ],
      "execution_count": null,
      "outputs": [
        {
          "output_type": "execute_result",
          "data": {
            "text/plain": [
              "LogisticRegression(C=1.0, class_weight=None, dual=False, fit_intercept=True,\n",
              "                   intercept_scaling=1, l1_ratio=None, max_iter=100,\n",
              "                   multi_class='auto', n_jobs=None, penalty='l2',\n",
              "                   random_state=None, solver='lbfgs', tol=0.0001, verbose=0,\n",
              "                   warm_start=False)"
            ]
          },
          "metadata": {
            "tags": []
          },
          "execution_count": 137
        }
      ]
    },
    {
      "cell_type": "markdown",
      "metadata": {
        "id": "AIYHMAjA1qBV"
      },
      "source": [
        "make predicitions and utilize the classification report to evaluate the model"
      ]
    },
    {
      "cell_type": "code",
      "metadata": {
        "colab": {
          "base_uri": "https://localhost:8080/"
        },
        "id": "SYGRmoePyM0M",
        "outputId": "868f798a-c8ea-4e18-c33b-2f9e6937d636"
      },
      "source": [
        "#making class predictions for the training data set\r\n",
        "m = full_time.predict(x_test)\r\n",
        "#evaluate the model using classification report\r\n",
        "print(classification_report(m,y_test))"
      ],
      "execution_count": null,
      "outputs": [
        {
          "output_type": "stream",
          "text": [
            "              precision    recall  f1-score   support\n",
            "\n",
            "           A       0.84      0.58      0.69        55\n",
            "           D       0.21      0.53      0.30        19\n",
            "           H       0.86      0.74      0.79        88\n",
            "\n",
            "    accuracy                           0.66       162\n",
            "   macro avg       0.64      0.62      0.59       162\n",
            "weighted avg       0.77      0.66      0.70       162\n",
            "\n"
          ],
          "name": "stdout"
        }
      ]
    },
    {
      "cell_type": "code",
      "metadata": {
        "colab": {
          "base_uri": "https://localhost:8080/",
          "height": 1000
        },
        "id": "brFnp56syMx2",
        "outputId": "e311d645-d5e1-43db-8282-6028a1c443bc"
      },
      "source": [
        "#Generates a plot of the train and test learning curves for logistic regression for the full time results of lfc matches\r\n",
        "skplt.estimators.plot_learning_curve(full_time, A,B,figsize=(10,8))\r\n",
        "plt.show()"
      ],
      "execution_count": null,
      "outputs": [
        {
          "output_type": "stream",
          "text": [
            "/usr/local/lib/python3.6/dist-packages/sklearn/linear_model/_logistic.py:940: ConvergenceWarning: lbfgs failed to converge (status=1):\n",
            "STOP: TOTAL NO. of ITERATIONS REACHED LIMIT.\n",
            "\n",
            "Increase the number of iterations (max_iter) or scale the data as shown in:\n",
            "    https://scikit-learn.org/stable/modules/preprocessing.html\n",
            "Please also refer to the documentation for alternative solver options:\n",
            "    https://scikit-learn.org/stable/modules/linear_model.html#logistic-regression\n",
            "  extra_warning_msg=_LOGISTIC_SOLVER_CONVERGENCE_MSG)\n",
            "/usr/local/lib/python3.6/dist-packages/sklearn/linear_model/_logistic.py:940: ConvergenceWarning: lbfgs failed to converge (status=1):\n",
            "STOP: TOTAL NO. of ITERATIONS REACHED LIMIT.\n",
            "\n",
            "Increase the number of iterations (max_iter) or scale the data as shown in:\n",
            "    https://scikit-learn.org/stable/modules/preprocessing.html\n",
            "Please also refer to the documentation for alternative solver options:\n",
            "    https://scikit-learn.org/stable/modules/linear_model.html#logistic-regression\n",
            "  extra_warning_msg=_LOGISTIC_SOLVER_CONVERGENCE_MSG)\n",
            "/usr/local/lib/python3.6/dist-packages/sklearn/linear_model/_logistic.py:940: ConvergenceWarning: lbfgs failed to converge (status=1):\n",
            "STOP: TOTAL NO. of ITERATIONS REACHED LIMIT.\n",
            "\n",
            "Increase the number of iterations (max_iter) or scale the data as shown in:\n",
            "    https://scikit-learn.org/stable/modules/preprocessing.html\n",
            "Please also refer to the documentation for alternative solver options:\n",
            "    https://scikit-learn.org/stable/modules/linear_model.html#logistic-regression\n",
            "  extra_warning_msg=_LOGISTIC_SOLVER_CONVERGENCE_MSG)\n",
            "/usr/local/lib/python3.6/dist-packages/sklearn/linear_model/_logistic.py:940: ConvergenceWarning: lbfgs failed to converge (status=1):\n",
            "STOP: TOTAL NO. of ITERATIONS REACHED LIMIT.\n",
            "\n",
            "Increase the number of iterations (max_iter) or scale the data as shown in:\n",
            "    https://scikit-learn.org/stable/modules/preprocessing.html\n",
            "Please also refer to the documentation for alternative solver options:\n",
            "    https://scikit-learn.org/stable/modules/linear_model.html#logistic-regression\n",
            "  extra_warning_msg=_LOGISTIC_SOLVER_CONVERGENCE_MSG)\n",
            "/usr/local/lib/python3.6/dist-packages/sklearn/linear_model/_logistic.py:940: ConvergenceWarning: lbfgs failed to converge (status=1):\n",
            "STOP: TOTAL NO. of ITERATIONS REACHED LIMIT.\n",
            "\n",
            "Increase the number of iterations (max_iter) or scale the data as shown in:\n",
            "    https://scikit-learn.org/stable/modules/preprocessing.html\n",
            "Please also refer to the documentation for alternative solver options:\n",
            "    https://scikit-learn.org/stable/modules/linear_model.html#logistic-regression\n",
            "  extra_warning_msg=_LOGISTIC_SOLVER_CONVERGENCE_MSG)\n",
            "/usr/local/lib/python3.6/dist-packages/sklearn/linear_model/_logistic.py:940: ConvergenceWarning: lbfgs failed to converge (status=1):\n",
            "STOP: TOTAL NO. of ITERATIONS REACHED LIMIT.\n",
            "\n",
            "Increase the number of iterations (max_iter) or scale the data as shown in:\n",
            "    https://scikit-learn.org/stable/modules/preprocessing.html\n",
            "Please also refer to the documentation for alternative solver options:\n",
            "    https://scikit-learn.org/stable/modules/linear_model.html#logistic-regression\n",
            "  extra_warning_msg=_LOGISTIC_SOLVER_CONVERGENCE_MSG)\n",
            "/usr/local/lib/python3.6/dist-packages/sklearn/linear_model/_logistic.py:940: ConvergenceWarning: lbfgs failed to converge (status=1):\n",
            "STOP: TOTAL NO. of ITERATIONS REACHED LIMIT.\n",
            "\n",
            "Increase the number of iterations (max_iter) or scale the data as shown in:\n",
            "    https://scikit-learn.org/stable/modules/preprocessing.html\n",
            "Please also refer to the documentation for alternative solver options:\n",
            "    https://scikit-learn.org/stable/modules/linear_model.html#logistic-regression\n",
            "  extra_warning_msg=_LOGISTIC_SOLVER_CONVERGENCE_MSG)\n",
            "/usr/local/lib/python3.6/dist-packages/sklearn/linear_model/_logistic.py:940: ConvergenceWarning: lbfgs failed to converge (status=1):\n",
            "STOP: TOTAL NO. of ITERATIONS REACHED LIMIT.\n",
            "\n",
            "Increase the number of iterations (max_iter) or scale the data as shown in:\n",
            "    https://scikit-learn.org/stable/modules/preprocessing.html\n",
            "Please also refer to the documentation for alternative solver options:\n",
            "    https://scikit-learn.org/stable/modules/linear_model.html#logistic-regression\n",
            "  extra_warning_msg=_LOGISTIC_SOLVER_CONVERGENCE_MSG)\n",
            "/usr/local/lib/python3.6/dist-packages/sklearn/linear_model/_logistic.py:940: ConvergenceWarning: lbfgs failed to converge (status=1):\n",
            "STOP: TOTAL NO. of ITERATIONS REACHED LIMIT.\n",
            "\n",
            "Increase the number of iterations (max_iter) or scale the data as shown in:\n",
            "    https://scikit-learn.org/stable/modules/preprocessing.html\n",
            "Please also refer to the documentation for alternative solver options:\n",
            "    https://scikit-learn.org/stable/modules/linear_model.html#logistic-regression\n",
            "  extra_warning_msg=_LOGISTIC_SOLVER_CONVERGENCE_MSG)\n",
            "/usr/local/lib/python3.6/dist-packages/sklearn/linear_model/_logistic.py:940: ConvergenceWarning: lbfgs failed to converge (status=1):\n",
            "STOP: TOTAL NO. of ITERATIONS REACHED LIMIT.\n",
            "\n",
            "Increase the number of iterations (max_iter) or scale the data as shown in:\n",
            "    https://scikit-learn.org/stable/modules/preprocessing.html\n",
            "Please also refer to the documentation for alternative solver options:\n",
            "    https://scikit-learn.org/stable/modules/linear_model.html#logistic-regression\n",
            "  extra_warning_msg=_LOGISTIC_SOLVER_CONVERGENCE_MSG)\n",
            "/usr/local/lib/python3.6/dist-packages/sklearn/linear_model/_logistic.py:940: ConvergenceWarning: lbfgs failed to converge (status=1):\n",
            "STOP: TOTAL NO. of ITERATIONS REACHED LIMIT.\n",
            "\n",
            "Increase the number of iterations (max_iter) or scale the data as shown in:\n",
            "    https://scikit-learn.org/stable/modules/preprocessing.html\n",
            "Please also refer to the documentation for alternative solver options:\n",
            "    https://scikit-learn.org/stable/modules/linear_model.html#logistic-regression\n",
            "  extra_warning_msg=_LOGISTIC_SOLVER_CONVERGENCE_MSG)\n",
            "/usr/local/lib/python3.6/dist-packages/sklearn/linear_model/_logistic.py:940: ConvergenceWarning: lbfgs failed to converge (status=1):\n",
            "STOP: TOTAL NO. of ITERATIONS REACHED LIMIT.\n",
            "\n",
            "Increase the number of iterations (max_iter) or scale the data as shown in:\n",
            "    https://scikit-learn.org/stable/modules/preprocessing.html\n",
            "Please also refer to the documentation for alternative solver options:\n",
            "    https://scikit-learn.org/stable/modules/linear_model.html#logistic-regression\n",
            "  extra_warning_msg=_LOGISTIC_SOLVER_CONVERGENCE_MSG)\n"
          ],
          "name": "stderr"
        },
        {
          "output_type": "display_data",
          "data": {
            "image/png": "[encoded data removed]",
            "text/plain": [
              "<Figure size 720x576 with 1 Axes>"
            ]
          },
          "metadata": {
            "tags": [],
            "needs_background": "light"
          }
        }
      ]
    },
    {
      "cell_type": "markdown",
      "metadata": {
        "id": "WipP3pY_2DGZ"
      },
      "source": [
        "# 2. KNN Algorithm"
      ]
    },
    {
      "cell_type": "markdown",
      "metadata": {
        "id": "_qgsBLbD2EPI"
      },
      "source": [
        "K-Nearest Neighbors algorithm is a supervised machine learning algorithm which measures the distance(euclidean, Manhattan etc) of a new data point to the training data points. It then selects the K-nearest data points, where K can be any integer. It allocates the new data point to the class to which the majority of the K data points belong. KNN was selected as the algortihm for this data set because it can be used to predict the catergory the new data point should be classified into. KNN algorithm will be used to predict the full time results(home team win, draw, away team win), half time results(home team win, draw, away team win) and to determine whether an english premier league match involving Liverpoof fc match will be a high , mid or low scoring game based on some predefine features. the process in creating the model for the KNN algorithm is described as follows:"
      ]
    },
    {
      "cell_type": "markdown",
      "metadata": {
        "id": "qp3nN73f2H5y"
      },
      "source": [
        "https://miro.medium.com/max/813/0*Sk18h9op6uK9EpT8."
      ]
    },
    {
      "cell_type": "markdown",
      "metadata": {
        "id": "VlWZY6t12NBX"
      },
      "source": [
        "## a) Full time results (FTR) predicton"
      ]
    },
    {
      "cell_type": "markdown",
      "metadata": {
        "id": "v5OkvfrH2OG7"
      },
      "source": [
        "The LFC dataset is divided into training and test split. this will assist in determing the performance of the algorithm in catergorizing unclassfied data in the tesing phase. the full time result (FTR) will be the target/dependent variable data while the full time home goals(FTHG), full time away goals(FTAG), away team red cards(AR), and home team red cards(HR) will be the attributes/input all of which are assigned to variables"
      ]
    },
    {
      "cell_type": "code",
      "metadata": {
        "id": "KOQyn86zvYLw"
      },
      "source": [
        "#define the independent variables\r\n",
        "A = liv.loc[:,['HY','AY','HST','AST','AR','HR','HTAG','HTHG']]\r\n",
        "#define the target/dependent variable\r\n",
        "B = liv['FTR']"
      ],
      "execution_count": null,
      "outputs": []
    },
    {
      "cell_type": "code",
      "metadata": {
        "id": "hFNxl-3TvYIy"
      },
      "source": [
        "from sklearn.model_selection import train_test_split\r\n",
        "# split the data set\r\n",
        "x_train,x_test,y_train,y_test = train_test_split(A,B)"
      ],
      "execution_count": null,
      "outputs": []
    },
    {
      "cell_type": "markdown",
      "metadata": {
        "id": "3KbrH8cj2XtZ"
      },
      "source": [
        "next the KNN algorithm will be trained for it to be able to make predicitions. The KNeighborClassifier class will be imported form the sklearn.neighbors library in order for predicitions to be made on the test data"
      ]
    },
    {
      "cell_type": "code",
      "metadata": {
        "id": "oI0nTPL40txR"
      },
      "source": [
        "from sklearn.neighbors import KNeighborsClassifier\r\n",
        "# define the model for the full time results of lfc matches using KNeighbors classifier\r\n",
        "full_time_knn = KNeighborsClassifier(metric='euclidean')\r\n",
        "# fit the train data to the model\r\n",
        "full_time_knn.fit(x_train,y_train)\r\n",
        "#make predicitions\r\n",
        "p=full_time_knn.predict(x_test)"
      ],
      "execution_count": null,
      "outputs": []
    },
    {
      "cell_type": "markdown",
      "metadata": {
        "id": "0xTE1Ozo2bXJ"
      },
      "source": [
        "After predicition, the algorithm will be evaluated. metrics that can be used to assess an algorithm include recall, precision and f1 score. the classification_report method can be used to calculate theses metrics "
      ]
    },
    {
      "cell_type": "code",
      "metadata": {
        "colab": {
          "base_uri": "https://localhost:8080/"
        },
        "id": "-eTcBOC_0tuw",
        "outputId": "ef515362-16c2-45d2-a6d3-a4086fc59e19"
      },
      "source": [
        "full_time_knn.score(x_test,y_test)\r\n",
        "print(classification_report(p,y_test))"
      ],
      "execution_count": null,
      "outputs": [
        {
          "output_type": "stream",
          "text": [
            "              precision    recall  f1-score   support\n",
            "\n",
            "           A       0.67      0.56      0.61        50\n",
            "           D       0.40      0.40      0.40        40\n",
            "           H       0.68      0.75      0.71        72\n",
            "\n",
            "    accuracy                           0.60       162\n",
            "   macro avg       0.58      0.57      0.57       162\n",
            "weighted avg       0.60      0.60      0.60       162\n",
            "\n"
          ],
          "name": "stdout"
        }
      ]
    },
    {
      "cell_type": "code",
      "metadata": {
        "colab": {
          "base_uri": "https://localhost:8080/",
          "height": 513
        },
        "id": "le0sM6XJ0tr-",
        "outputId": "da7cc34f-f66c-4f9d-eb31-099f6f4c6d46"
      },
      "source": [
        "#Generates a plot of the train and test learning curves for the knn classifier for the full time results of lfc matches\r\n",
        "skplt.estimators.plot_learning_curve(full_time_knn, A, B, figsize=(10,8))\r\n",
        "plt.show()"
      ],
      "execution_count": null,
      "outputs": [
        {
          "output_type": "display_data",
          "data": {
            "image/png": "[encoded data removed]",
            "text/plain": [
              "<Figure size 720x576 with 1 Axes>"
            ]
          },
          "metadata": {
            "tags": [],
            "needs_background": "light"
          }
        }
      ]
    },
    {
      "cell_type": "markdown",
      "metadata": {
        "id": "jQU_L3ki2jhi"
      },
      "source": [
        "Cross-validation technique is used for evaluate how the results of a statistical analysis will generalize to an independent data set. It is mainly used in settings where the goal is prediction, and one wants to estimate how accurately a predictive model will perform in practice. it is used to evaluate the skill of the model on new data. it involves breaking down the data sets into different parts and using each part for testing and training at different rounds respectively."
      ]
    },
    {
      "cell_type": "markdown",
      "metadata": {
        "id": "YJzNqhU-2mrV"
      },
      "source": [
        "## a1) Error Rate of K\r\n",
        "\r\n",
        "Next the value of K is compared with the error rate. this will help illustrate what value of K gives the optimum results for the model since 5 is set as the default value for k."
      ]
    },
    {
      "cell_type": "code",
      "metadata": {
        "id": "ntS2UOr90to7"
      },
      "source": [
        "error = []\r\n",
        "\r\n",
        "# Calculating error for K values between 1 and 40\r\n",
        "for i in range(1, 40):\r\n",
        "    full_time_knn = KNeighborsClassifier(n_neighbors=i)\r\n",
        "    full_time_knn.fit(x_train, y_train)\r\n",
        "    pred_i = full_time_knn.predict(x_test)\r\n",
        "    error.append(np.mean(pred_i != y_test))"
      ],
      "execution_count": null,
      "outputs": []
    },
    {
      "cell_type": "code",
      "metadata": {
        "colab": {
          "base_uri": "https://localhost:8080/",
          "height": 423
        },
        "id": "0E58dxKD3p-G",
        "outputId": "48def1a3-889c-4d4a-9f02-cd471369fa19"
      },
      "source": [
        "plt.figure(figsize=(12, 6))\r\n",
        "plt.plot(range(1, 40), error, color='red', linestyle='dashed', marker='o',\r\n",
        "         markerfacecolor='blue', markersize=10)\r\n",
        "plt.title('Error Rate K Value')\r\n",
        "plt.xlabel('K Value')\r\n",
        "plt.ylabel('Mean Error')"
      ],
      "execution_count": null,
      "outputs": [
        {
          "output_type": "execute_result",
          "data": {
            "text/plain": [
              "Text(0, 0.5, 'Mean Error')"
            ]
          },
          "metadata": {
            "tags": []
          },
          "execution_count": 147
        },
        {
          "output_type": "display_data",
          "data": {
            "image/png": "[encoded data removed]",
            "text/plain": [
              "<Figure size 864x432 with 1 Axes>"
            ]
          },
          "metadata": {
            "tags": [],
            "needs_background": "light"
          }
        }
      ]
    },
    {
      "cell_type": "code",
      "metadata": {
        "id": "JcTg9hYg3p7N"
      },
      "source": [
        ""
      ],
      "execution_count": null,
      "outputs": []
    }
  ]
}